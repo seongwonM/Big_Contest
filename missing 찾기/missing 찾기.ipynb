{
 "cells": [
  {
   "cell_type": "code",
   "execution_count": 1,
   "id": "37aba245",
   "metadata": {},
   "outputs": [],
   "source": [
    "# 라이브러리\n",
    "import pandas as pd\n",
    "import numpy as np\n",
    "from datetime import datetime, timedelta\n",
    "import os"
   ]
  },
  {
   "cell_type": "code",
   "execution_count": 2,
   "id": "70e5a811",
   "metadata": {},
   "outputs": [],
   "source": [
    "# 데이터 불러오기\n",
    "seat_level=pd.read_csv('seat_level.csv')"
   ]
  },
  {
   "cell_type": "code",
   "execution_count": 3,
   "id": "f9dad206",
   "metadata": {},
   "outputs": [],
   "source": [
    "# 원본 데이터 유지\n",
    "df=seat_level.copy()"
   ]
  },
  {
   "cell_type": "code",
   "execution_count": 4,
   "id": "f77fd621",
   "metadata": {},
   "outputs": [],
   "source": [
    "# 열 전체 출력 옵션\n",
    "pd.set_option('display.max_columns', None)"
   ]
  },
  {
   "cell_type": "markdown",
   "id": "8d411f45",
   "metadata": {},
   "source": [
    "## 시간 변경"
   ]
  },
  {
   "cell_type": "code",
   "execution_count": 5,
   "id": "1ac03784",
   "metadata": {},
   "outputs": [],
   "source": [
    "#날짜랑 시간 합치고 날짜형으로 변경\n",
    "df['play_date_time']=df['real_play_date']+' '+df['play_st_time']\n",
    "df['play_date_time'] = pd.to_datetime(df['play_date_time'], format='%Y-%m-%d %H:%M:%S')"
   ]
  },
  {
   "cell_type": "code",
   "execution_count": 6,
   "id": "b5c42364",
   "metadata": {},
   "outputs": [],
   "source": [
    "#시간이 변경 된 공연 모두 변경 후로 바꿈\n",
    "date_pairs=[('2019-04-27T20:00:00.000000000','2019-04-27T17:00:00.000000000'),\n",
    "           ('2020-12-24T20:00:00.000000000','2020-12-24T19:00:00.000000000'),\n",
    "           ('2022-05-03T19:30:00.000000000','2022-05-03T20:00:00.000000000'),\n",
    "           ('2021-09-11T20:00:00.000000000','2021-09-11T19:00:00.000000000'),\n",
    "           ('2021-07-16T19:30:00.000000000','2021-07-16T19:00:00.000000000'),\n",
    "           ('2021-08-21T20:00:00.000000000','2021-08-21T19:30:00.000000000'),\n",
    "           ('2019-05-21T20:00:00.000000000','2019-05-21T19:30:00.000000000')]\n",
    "\n",
    "cols_to_change=['title','entry_age', 'hold', 'agency', 'sponser', \n",
    "                   'R_price', 'S_price', 'A_price', 'B_price', 'C_price', 'glee', 'normal', 'first_level', 'second_level', 'third_level', 'all','play_date_time']\n",
    "\n",
    "for pair in date_pairs:\n",
    "    incorrect_date, correct_date = pair\n",
    "    for col in cols_to_change:\n",
    "        df.loc[df['play_date_time']==incorrect_date,col]=df[df['play_date_time']==correct_date].iloc[0][col]"
   ]
  },
  {
   "cell_type": "code",
   "execution_count": 7,
   "id": "1355b773",
   "metadata": {},
   "outputs": [],
   "source": [
    "# play_st_time도 변경 후 시간으로 통일\n",
    "df.loc[df.real_play_date=='2019-04-27','play_st_time']='20:00:00'\n",
    "df.loc[df.real_play_date=='2019-05-21','play_st_time']='20:00:00'\n",
    "df.loc[df.real_play_date=='2020-12-24','play_st_time']='20:00:00'\n",
    "df.loc[df.real_play_date=='2021-07-16','play_st_time']='19:30:00'\n",
    "df.loc[df.real_play_date=='2021-08-21','play_st_time']='20:00:00'\n",
    "df.loc[df.real_play_date=='2021-09-11','play_st_time']='20:00:00'\n",
    "df.loc[df.real_play_date=='2022-05-03','play_st_time']='19:30:00'"
   ]
  },
  {
   "cell_type": "markdown",
   "id": "523f31c2",
   "metadata": {},
   "source": [
    "## 할인 내역 정리"
   ]
  },
  {
   "cell_type": "code",
   "execution_count": 8,
   "id": "ccdaf1fc",
   "metadata": {},
   "outputs": [],
   "source": [
    "# 오류 방지 데이터 복제\n",
    "data=df.copy()"
   ]
  },
  {
   "cell_type": "code",
   "execution_count": 9,
   "id": "9f068bff",
   "metadata": {},
   "outputs": [],
   "source": [
    "# price가 0이 아니면서 할인내역에서 % 알 수 없지만 도메인으로 찾은 것들 채움\n",
    "data.loc[data.discount_type.isin(['골드회원+음반패키지','골드회원+음반 패키지','골드회원 할인+음반패키지']),'price']=data.loc[data.discount_type.isin(['골드회원+음반패키지','골드회원+음반 패키지','골드회원 할인+음반패키지']),'price']-10000\n",
    "data.loc[data.discount_type.isin(['골드회원+음반패키지','골드회원+음반 패키지','골드회원 할인+음반패키지']),'discount_percent']=30\n",
    "data.loc[data.discount_type.isin(['블랙프라이데이 이벤트']),'discount_percent']=40\n",
    "data.loc[data.discount_type.isin(['싹틔우미 할인']),'discount_percent']=60\n",
    "data.loc[data.discount_type.isin(['특판A']),'discount_percent']=20\n",
    "data.loc[data.discount_type.isin(['특판B']),'discount_percent']=30\n",
    "data.loc[data.discount_type.isin(['특판D']),'discount_percent']=50\n",
    "# origin_price1이 비어있기 때문에 할인률을 이용하여 정가 복구\n",
    "origin_price1=[]      \n",
    "for j in data.index.tolist():\n",
    "    price = data.loc[j, 'price']\n",
    "    calculated_price1 = price * (1/(1-(data.loc[j,'discount_percent'] / 100))) if not pd.isna(data.loc[j,'discount_percent']) else None\n",
    "    origin_price1.append(calculated_price1)    \n",
    "data['origin_price1']=origin_price1\n",
    "# 5000원 할인인 할인 내역 정가 복구\n",
    "data.loc[data.discount_type.isin(['초/중/고/대학생 할인(본인만)']),'origin_price1']=data.loc[data.discount_type.isin(['초/중/고/대학생 할인(본인만)']),'price']+5000"
   ]
  },
  {
   "cell_type": "code",
   "execution_count": 10,
   "id": "1844c77e",
   "metadata": {},
   "outputs": [],
   "source": [
    "# 복원\n",
    "df=data.copy()"
   ]
  },
  {
   "cell_type": "markdown",
   "id": "ef9a9501",
   "metadata": {},
   "source": [
    "## 공연정보를 변경"
   ]
  },
  {
   "cell_type": "markdown",
   "id": "85c98630",
   "metadata": {},
   "source": [
    "### 2019"
   ]
  },
  {
   "cell_type": "code",
   "execution_count": 11,
   "id": "2dee7c05",
   "metadata": {},
   "outputs": [],
   "source": [
    "#2019-02-21 - 홈페이지 오류\n",
    "df.loc[df.real_play_date=='2019-02-21','title']='KBS교향악단 제739회 정기연주회'\n",
    "df.loc[df.real_play_date=='2019-02-21','R_price']=120000\n",
    "df.loc[df.real_play_date=='2019-02-21','S_price']=90000\n",
    "df.loc[df.real_play_date=='2019-02-21','A_price']=60000\n",
    "df.loc[df.real_play_date=='2019-02-21','B_price']=30000\n",
    "df.loc[df.real_play_date=='2019-02-21','C_price']=10000"
   ]
  },
  {
   "cell_type": "code",
   "execution_count": 12,
   "id": "4e5b27d0",
   "metadata": {},
   "outputs": [],
   "source": [
    "#2019-11-24 - 홈페이지 오류\n",
    "df.loc[df.real_play_date=='2019-02-23','R_price']=121000\n",
    "df.loc[df.real_play_date=='2019-02-23','S_price']=99000\n",
    "df.loc[df.real_play_date=='2019-02-23','A_price']=77000\n",
    "df.loc[df.real_play_date=='2019-02-23','B_price']=55000"
   ]
  },
  {
   "cell_type": "code",
   "execution_count": 13,
   "id": "f357c17b",
   "metadata": {},
   "outputs": [],
   "source": [
    "#2019-02-23 - 홈페이지 오류\n",
    "df.loc[df.real_play_date=='2019-02-23','title']='라파우 블레하츠 & 김봄소리 듀오 콘서트'\n",
    "df.loc[df.real_play_date=='2019-02-23','R_price']=121000\n",
    "df.loc[df.real_play_date=='2019-02-23','S_price']=99000\n",
    "df.loc[df.real_play_date=='2019-02-23','A_price']=77000\n",
    "df.loc[df.real_play_date=='2019-02-23','B_price']=55000"
   ]
  },
  {
   "cell_type": "markdown",
   "id": "a8a9476b",
   "metadata": {},
   "source": [
    "### 2020"
   ]
  },
  {
   "cell_type": "code",
   "execution_count": 14,
   "id": "1438d897",
   "metadata": {},
   "outputs": [],
   "source": [
    "#2020-02-01 - 홈페이지 오류\n",
    "df.loc[df.real_play_date=='2020-02-01','title']='신영옥 데뷔 30주년 콘서트'\n",
    "df.loc[df.real_play_date=='2020-02-01','R_price']=200000\n",
    "df.loc[df.real_play_date=='2020-02-01','S_price']=150000\n",
    "df.loc[df.real_play_date=='2020-02-01','A_price']=70000"
   ]
  },
  {
   "cell_type": "code",
   "execution_count": 15,
   "id": "4b39eb8b",
   "metadata": {},
   "outputs": [],
   "source": [
    "#2020-02-02 - 홈페이지 오류\n",
    "df.loc[df.real_play_date=='2020-02-02','title']='영혼을 울리는 음악회 7'\n",
    "df.loc[df.real_play_date=='2020-02-02','R_price']=100000\n",
    "df.loc[df.real_play_date=='2020-02-02','S_price']=70000\n",
    "df.loc[df.real_play_date=='2020-02-02','A_price']=50000\n",
    "df.loc[df.real_play_date=='2020-02-02','B_price']=20000"
   ]
  },
  {
   "cell_type": "code",
   "execution_count": 16,
   "id": "a4868e5e",
   "metadata": {},
   "outputs": [],
   "source": [
    "#2020-02-04 - 홈페이지 오류로 찾을 수 없음\n",
    "df.loc[df.real_play_date=='2020-02-04','title']=''\n",
    "df.loc[df.real_play_date=='2020-02-04','R_price']=120000\n",
    "df.loc[df.real_play_date=='2020-02-04','S_price']=90000\n",
    "df.loc[df.real_play_date=='2020-02-04','A_price']=60000\n",
    "df.loc[df.real_play_date=='2020-02-04','B_price']=30000"
   ]
  },
  {
   "cell_type": "code",
   "execution_count": 17,
   "id": "7950f1ce",
   "metadata": {},
   "outputs": [],
   "source": [
    "#2020-02-08 - 홈페이지 오류\n",
    "df.loc[df.real_play_date=='2020-02-08','title']='너에게 들려주고 싶은 클래식이야기 - 너클리5'\n",
    "df.loc[df.real_play_date=='2020-02-08','R_price']=50000\n",
    "df.loc[df.real_play_date=='2020-02-08','S_price']=30000\n",
    "df.loc[df.real_play_date=='2020-02-08','A_price']=20000\n",
    "df.loc[df.real_play_date=='2020-02-08','B_price']=10000"
   ]
  },
  {
   "cell_type": "code",
   "execution_count": 18,
   "id": "26ca3714",
   "metadata": {},
   "outputs": [],
   "source": [
    "#2020-02-09 - 홈페이지 오류\n",
    "df.loc[df.real_play_date=='2020-02-09','title']='너에게 들려주고 싶은 클래식이야기 - 너클리3'\n",
    "df.loc[df.real_play_date=='2020-02-09','R_price']=70000\n",
    "df.loc[df.real_play_date=='2020-02-09','S_price']=50000\n",
    "df.loc[df.real_play_date=='2020-02-09','A_price']=30000\n",
    "df.loc[df.real_play_date=='2020-02-09','B_price']=10000"
   ]
  },
  {
   "cell_type": "code",
   "execution_count": 19,
   "id": "0aadd20a",
   "metadata": {},
   "outputs": [],
   "source": [
    "#2020-02-12 - 홈페이지 오류\n",
    "df.loc[df.real_play_date=='2020-02-12','title']='제 12회 대한민국오페라대상 수상자 음악회 - 골든오페라갈라콘서트'\n",
    "df.loc[df.real_play_date=='2020-02-12','R_price']=200000\n",
    "df.loc[df.real_play_date=='2020-02-12','S_price']=150000\n",
    "df.loc[df.real_play_date=='2020-02-12','A_price']=100000\n",
    "df.loc[df.real_play_date=='2020-02-12','B_price']=50000\n",
    "df.loc[df.real_play_date=='2020-02-12','C_price']=30000"
   ]
  },
  {
   "cell_type": "code",
   "execution_count": 20,
   "id": "948b1b19",
   "metadata": {},
   "outputs": [],
   "source": [
    "#2020-02-15 - 홈페이지 오류\n",
    "df.loc[df.real_play_date=='2020-02-15','title']='레티시아모레노 with 뉴탱고퀸텟 피아졸라콘서트'\n",
    "df.loc[df.real_play_date=='2020-02-15','R_price']=120000\n",
    "df.loc[df.real_play_date=='2020-02-15','S_price']=90000\n",
    "df.loc[df.real_play_date=='2020-02-15','A_price']=60000\n",
    "df.loc[df.real_play_date=='2020-02-15','B_price']=30000"
   ]
  },
  {
   "cell_type": "code",
   "execution_count": 21,
   "id": "ccba758d",
   "metadata": {},
   "outputs": [],
   "source": [
    "#2020-02-18 - 홈페이지 오류로 찾을 수 없음\n",
    "df.loc[df.real_play_date=='2020-02-18','title']=''\n",
    "df.loc[df.real_play_date=='2020-02-18','R_price']=70000\n",
    "df.loc[df.real_play_date=='2020-02-18','S_price']=50000\n",
    "df.loc[df.real_play_date=='2020-02-18','A_price']=30000"
   ]
  },
  {
   "cell_type": "code",
   "execution_count": 22,
   "id": "7432e199",
   "metadata": {},
   "outputs": [],
   "source": [
    "#2020-02-19 - 홈페이지 오류\n",
    "df.loc[df.real_play_date=='2020-02-19','title']='제23회 뮤즈 윈드 오케스트라 정기연주회'\n",
    "df.loc[df.real_play_date=='2020-02-19','R_price']=100000\n",
    "df.loc[df.real_play_date=='2020-02-19','S_price']=70000\n",
    "df.loc[df.real_play_date=='2020-02-19','A_price']=50000\n",
    "df.loc[df.real_play_date=='2020-02-19','B_price']=20000"
   ]
  },
  {
   "cell_type": "code",
   "execution_count": 23,
   "id": "b985abd4",
   "metadata": {},
   "outputs": [],
   "source": [
    "#2020-02-20 - 홈페이지 오류\n",
    "df.loc[df.real_play_date=='2020-02-20','title']='French Fantasia Ⅱ'\n",
    "df.loc[df.real_play_date=='2020-02-20','R_price']=80000\n",
    "df.loc[df.real_play_date=='2020-02-20','S_price']=60000\n",
    "df.loc[df.real_play_date=='2020-02-20','A_price']=40000\n",
    "df.loc[df.real_play_date=='2020-02-20','B_price']=20000"
   ]
  },
  {
   "cell_type": "code",
   "execution_count": 24,
   "id": "c8517134",
   "metadata": {},
   "outputs": [],
   "source": [
    "#2020-02-21 - 홈페이지 오류\n",
    "df.loc[df.real_play_date=='2020-02-21','title']='2020 서울시향 모차르트 교향곡 제36번 린츠'\n",
    "df.loc[df.real_play_date=='2020-02-21','R_price']=70000\n",
    "df.loc[df.real_play_date=='2020-02-21','S_price']=50000\n",
    "df.loc[df.real_play_date=='2020-02-21','A_price']=30000\n",
    "df.loc[df.real_play_date=='2020-02-21','B_price']=20000\n",
    "df.loc[df.real_play_date=='2020-02-21','C_price']=10000"
   ]
  },
  {
   "cell_type": "code",
   "execution_count": 25,
   "id": "7c84b221",
   "metadata": {},
   "outputs": [],
   "source": [
    "#2020-02-22 - 홈페이지 오류\n",
    "df.loc[df.real_play_date=='2020-02-22','title']='제37회 유나이티드필하모닉오케스트라와 함께하는 가족음악회'\n",
    "df.loc[df.real_play_date=='2020-02-22','normal']=20000"
   ]
  },
  {
   "cell_type": "code",
   "execution_count": 26,
   "id": "c73dbcee",
   "metadata": {},
   "outputs": [],
   "source": [
    "#2020-02-23 - 홈페이지 오류\n",
    "df.loc[df.real_play_date=='2020-02-23','title']=\"베토벤 최고의 걸작 '장엄미사'\"\n",
    "df.loc[df.real_play_date=='2020-02-23','R_price']=100000\n",
    "df.loc[df.real_play_date=='2020-02-23','S_price']=70000\n",
    "df.loc[df.real_play_date=='2020-02-23','A_price']=50000\n",
    "df.loc[df.real_play_date=='2020-02-23','B_price']=30000\n",
    "df.loc[df.real_play_date=='2020-02-23','C_price']=20000"
   ]
  },
  {
   "cell_type": "code",
   "execution_count": 27,
   "id": "e140ae72",
   "metadata": {},
   "outputs": [],
   "source": [
    "#2020-05-02 - 무관중\n",
    "df.loc[df.real_play_date=='2020-05-02','R_price']=90000\n",
    "df.loc[df.real_play_date=='2020-05-02','S_price']=70000\n",
    "df.loc[df.real_play_date=='2020-05-02','A_price']=50000\n",
    "df.loc[df.real_play_date=='2020-05-02','B_price']=30000\n",
    "df.loc[df.real_play_date=='2020-05-02','C_price']=10000"
   ]
  },
  {
   "cell_type": "code",
   "execution_count": 28,
   "id": "6fb4971c",
   "metadata": {},
   "outputs": [],
   "source": [
    "#2020-05-29 - 무관중\n",
    "df.loc[df.real_play_date=='2020-05-29','R_price']=90000\n",
    "df.loc[df.real_play_date=='2020-05-29','S_price']=70000\n",
    "df.loc[df.real_play_date=='2020-05-29','A_price']=50000\n",
    "df.loc[df.real_play_date=='2020-05-29','B_price']=30000\n",
    "df.loc[df.real_play_date=='2020-05-29','C_price']=10000"
   ]
  },
  {
   "cell_type": "code",
   "execution_count": 29,
   "id": "51395b31",
   "metadata": {},
   "outputs": [],
   "source": [
    "#2020-06-03 - 무관중, 예측\n",
    "df.loc[df.real_play_date=='2020-06-03','R_price']=70000\n",
    "df.loc[df.real_play_date=='2020-06-03','S_price']=50000\n",
    "df.loc[df.real_play_date=='2020-06-03','A_price']=30000\n",
    "df.loc[df.real_play_date=='2020-06-03','B_price']=10000"
   ]
  },
  {
   "cell_type": "code",
   "execution_count": 30,
   "id": "a3eb063d",
   "metadata": {},
   "outputs": [],
   "source": [
    "#2020-06-26 - 3,4만원 추가\n",
    "df.loc[df.real_play_date=='2020-06-26','R_price']=70000\n",
    "df.loc[df.real_play_date=='2020-06-26','S_price']=50000\n",
    "df.loc[df.real_play_date=='2020-06-26','A_price']=40000\n",
    "df.loc[df.real_play_date=='2020-06-26','B_price']=30000\n",
    "df.loc[df.real_play_date=='2020-06-26','C_price']=10000"
   ]
  },
  {
   "cell_type": "code",
   "execution_count": 31,
   "id": "61bf3bbc",
   "metadata": {},
   "outputs": [],
   "source": [
    "#2020-07-16 - 3,5만원 추가\n",
    "df.loc[df.real_play_date=='2020-07-16','R_price']=90000\n",
    "df.loc[df.real_play_date=='2020-07-16','S_price']=70000\n",
    "df.loc[df.real_play_date=='2020-07-16','A_price']=50000\n",
    "df.loc[df.real_play_date=='2020-07-16','B_price']=30000\n",
    "df.loc[df.real_play_date=='2020-07-16','C_price']=10000"
   ]
  },
  {
   "cell_type": "code",
   "execution_count": 32,
   "id": "f60afe31",
   "metadata": {},
   "outputs": [],
   "source": [
    "#2020-07-17 무관중, 예측\n",
    "df.loc[df.real_play_date=='2020-07-17',\n",
    "       ['R_price', 'S_price', 'A_price', 'B_price']]=[70000, 50000, 30000, 10000]"
   ]
  },
  {
   "cell_type": "code",
   "execution_count": 33,
   "id": "6124f02e",
   "metadata": {},
   "outputs": [],
   "source": [
    "#2020-09-05 홈페이지에서 찾을 수 없음\n",
    "df.loc[df.real_play_date=='2020-09-05',\n",
    "       ['R_price', 'S_price', 'A_price']]=[130000, 110000, 55000]"
   ]
  },
  {
   "cell_type": "code",
   "execution_count": 34,
   "id": "f042cc96",
   "metadata": {},
   "outputs": [],
   "source": [
    "#2020-09-24 - 무관중, 예측\n",
    "df.loc[df.real_play_date=='2020-09-24',['R_price', 'S_price', 'A_price', 'B_price', 'C_price']]=[70000, 50000, 30000, 20000, 10000]"
   ]
  },
  {
   "cell_type": "code",
   "execution_count": 35,
   "id": "7b3f5e36",
   "metadata": {},
   "outputs": [],
   "source": [
    "#2020-10-31 - 3,5만원 추가\n",
    "df.loc[df.real_play_date=='2020-10-31',\n",
    "       ['R_price', 'S_price', 'A_price', 'B_price', 'C_price', 'glee']]=[90000, 70000, 50000, 40000, 30000, 10000]"
   ]
  },
  {
   "cell_type": "code",
   "execution_count": 36,
   "id": "b6928117",
   "metadata": {},
   "outputs": [],
   "source": [
    "#2020-11-19 - 3,6만원 추가\n",
    "df.loc[df.real_play_date=='2020-11-19',\n",
    "       ['R_price', 'S_price', 'A_price', 'B_price', 'C_price', 'normal', 'glee']]=[120000, 90000, 60000, 50000, 30000, 10000, 10000]"
   ]
  },
  {
   "cell_type": "code",
   "execution_count": 37,
   "id": "f03a2c28",
   "metadata": {},
   "outputs": [],
   "source": [
    "#2020-12-05 - 무관중\n",
    "df.loc[df.real_play_date=='2020-12-05',\n",
    "       ['R_price', 'S_price', 'A_price', 'B_price', 'C_price', 'normal']]=[90000, 70000, 50000, 30000, 20000, 10000]"
   ]
  },
  {
   "cell_type": "code",
   "execution_count": 38,
   "id": "b388bd4e",
   "metadata": {},
   "outputs": [],
   "source": [
    "#2020-12-12 - 무관중\n",
    "df.loc[df.real_play_date=='2020-12-12',\n",
    "       ['R_price', 'S_price', 'A_price']]=[50000, 35000, 20000]"
   ]
  },
  {
   "cell_type": "code",
   "execution_count": 39,
   "id": "b0aeb344",
   "metadata": {},
   "outputs": [],
   "source": [
    "#2020-12-16 - 무관중\n",
    "df.loc[df.real_play_date=='2020-12-16',\n",
    "       ['R_price', 'S_price', 'A_price']]=[50000, 35000, 20000]"
   ]
  },
  {
   "cell_type": "code",
   "execution_count": 40,
   "id": "76f1f968",
   "metadata": {},
   "outputs": [],
   "source": [
    "#2020-12-24 - 3,6만원 추가\n",
    "df.loc[df.real_play_date=='2020-12-24',\n",
    "       ['R_price', 'S_price', 'A_price', 'B_price', 'C_price', 'normal']]=[120000, 90000, 60000, 50000, 30000, 10000]"
   ]
  },
  {
   "cell_type": "code",
   "execution_count": 41,
   "id": "d935e95a",
   "metadata": {},
   "outputs": [],
   "source": [
    "#2020-12-25 - 전석초대로 나온는데 아마 무관중, 예측\n",
    "df.loc[df.real_play_date=='2020-12-25',\n",
    "       ['R_price', 'S_price', 'A_price']]=[80000, 60000, 40000]"
   ]
  },
  {
   "cell_type": "markdown",
   "id": "b3803f55",
   "metadata": {},
   "source": [
    "### 2021"
   ]
  },
  {
   "cell_type": "code",
   "execution_count": 42,
   "id": "6dfd6c4d",
   "metadata": {},
   "outputs": [],
   "source": [
    "#2021-08-25 - 홈페이지에 아무것도 나와있지 않음\n",
    "df.loc[df.real_play_date=='2021-08-25',\n",
    "       ['R_price', 'S_price']]=[30000, 15000]"
   ]
  },
  {
   "cell_type": "code",
   "execution_count": 43,
   "id": "def5e1b2",
   "metadata": {},
   "outputs": [],
   "source": [
    "#2021-09-16 - 홈페이지에 아무것도 나와있지 않음\n",
    "df.loc[df.real_play_date=='2021-09-16',\n",
    "       ['R_price', 'S_price', 'A_price', 'B_price', 'C_price']]=[100000, 70000, 50000, 30000, 20000]"
   ]
  },
  {
   "cell_type": "code",
   "execution_count": 44,
   "id": "821cfbe9",
   "metadata": {},
   "outputs": [],
   "source": [
    "#2021-12-12 - 홈페이지 오류\n",
    "df.loc[df.real_play_date=='2021-12-12',\n",
    "       ['R_price', 'S_price', 'A_price', 'B_price']]=[110000, 90000, 70000, 50000]"
   ]
  },
  {
   "cell_type": "markdown",
   "id": "301caf35",
   "metadata": {},
   "source": [
    "### 2022"
   ]
  },
  {
   "cell_type": "code",
   "execution_count": 45,
   "id": "a2092529",
   "metadata": {},
   "outputs": [],
   "source": [
    "#2022-05-15 - 홈페이지에 아무것도 안나옴\n",
    "df.loc[df.real_play_date=='2022-05-15',\n",
    "       ['R_price', 'S_price', 'A_price', 'B_price']]=[100000, 70000, 50000, 30000]"
   ]
  },
  {
   "cell_type": "code",
   "execution_count": 46,
   "id": "a770692c",
   "metadata": {},
   "outputs": [],
   "source": [
    "#2022-05-28 - 홈페이지에 아무것도 안나옴\n",
    "df.loc[df.real_play_date=='2022-05-28',\n",
    "       ['R_price', 'S_price', 'A_price', 'B_price', 'C_price']]=[60000, 40000, 30000, 20000, 10000]"
   ]
  },
  {
   "cell_type": "code",
   "execution_count": 47,
   "id": "6ec84707",
   "metadata": {},
   "outputs": [],
   "source": [
    "#2022-10-08 - 홈페이지에 아무것도 안나옴\n",
    "df.loc[df.real_play_date=='2022-10-08',\n",
    "       ['R_price', 'S_price', 'A_price', 'B_price']]=[110000, 90000, 70000, 50000]"
   ]
  },
  {
   "cell_type": "code",
   "execution_count": 48,
   "id": "bae095a2",
   "metadata": {},
   "outputs": [],
   "source": [
    "#2022-12-15 - 홈페이지에 아예 없음\n",
    "df.loc[df.real_play_date=='2022-12-15',\n",
    "       ['title', 'R_price', 'S_price', 'A_price', 'B_price']]=['파보 예르비 & 도이치 캄머필하모닉', 200000, 150000, 100000, 60000]"
   ]
  },
  {
   "cell_type": "code",
   "execution_count": 49,
   "id": "3c5ec5de",
   "metadata": {},
   "outputs": [],
   "source": [
    "#2022-12-22 - 홈페이지에 가격이 안나옴\n",
    "df.loc[df.real_play_date=='2022-12-22',\n",
    "       ['R_price', 'S_price', 'A_price']]=[30000, 20000, 10000]"
   ]
  },
  {
   "cell_type": "code",
   "execution_count": 50,
   "id": "238e38f8",
   "metadata": {},
   "outputs": [],
   "source": [
    "#2022-12-23 - 홈페이지에 가격이 안나옴\n",
    "df.loc[df.real_play_date=='2022-12-23',\n",
    "       ['R_price', 'S_price', 'A_price', 'B_price', 'C_price']]=[150000, 120000, 100000, 80000, 50000]"
   ]
  },
  {
   "cell_type": "markdown",
   "id": "77954c41",
   "metadata": {},
   "source": [
    "### 2023"
   ]
  },
  {
   "cell_type": "code",
   "execution_count": 51,
   "id": "2d3d86d6",
   "metadata": {},
   "outputs": [],
   "source": [
    "#2023-02-19 - 홈페이지에 아예 없음\n",
    "df.loc[df.real_play_date=='2023-02-19',\n",
    "       ['title', 'R_price', 'S_price', 'A_price']]=['왕가위 영화음악 오케스트라 콘서트', 80000, 65000, 50000]"
   ]
  },
  {
   "cell_type": "markdown",
   "id": "247a9dc1",
   "metadata": {},
   "source": [
    "## 행을 변경"
   ]
  },
  {
   "cell_type": "code",
   "execution_count": 52,
   "id": "3b939147",
   "metadata": {},
   "outputs": [],
   "source": [
    "# 50%로 적용\n",
    "df.loc[(df.real_play_date=='2019-11-24')&(df.seat_level=='missing'), ['discount_percent', 'discount_type']]=[50,'50']"
   ]
  },
  {
   "cell_type": "code",
   "execution_count": 53,
   "id": "7784cbcf",
   "metadata": {},
   "outputs": [],
   "source": [
    "# 30%로 적용\n",
    "df.loc[(df.real_play_date=='2021-05-30')&(df.discount_type.str.contains('장애')),\n",
    "       'discount_percent']=80"
   ]
  },
  {
   "cell_type": "code",
   "execution_count": 54,
   "id": "40275965",
   "metadata": {},
   "outputs": [],
   "source": [
    "# 30%로 적용\n",
    "df.loc[(df.title=='KBS교향악단 제769회 정기연주회')&(df.seat_level=='missing'), \n",
    "       ['discount_percent']]=30"
   ]
  },
  {
   "cell_type": "code",
   "execution_count": 55,
   "id": "4930d45e",
   "metadata": {},
   "outputs": [],
   "source": [
    "# 30%로 적용\n",
    "df.loc[(df.title=='KBS교향악단 제770회 정기연주회')&(df.seat_level=='missing'), \n",
    "       ['discount_percent']]=30"
   ]
  },
  {
   "cell_type": "code",
   "execution_count": 56,
   "id": "3afc3ff3",
   "metadata": {},
   "outputs": [],
   "source": [
    "# 30%로 적용\n",
    "df.loc[(df.title=='KBS교향악단 제771회 정기연주회')&(df.seat_level=='missing'), \n",
    "       ['discount_percent']]=30"
   ]
  },
  {
   "cell_type": "code",
   "execution_count": 57,
   "id": "bee2f5cb",
   "metadata": {},
   "outputs": [],
   "source": [
    "# 30%로 적용\n",
    "df.loc[(df.title=='KBS교향악단 제772회 정기연주회')&(df.seat_level=='missing'), \n",
    "       ['discount_percent']]=30"
   ]
  },
  {
   "cell_type": "code",
   "execution_count": 58,
   "id": "6ea83811",
   "metadata": {},
   "outputs": [],
   "source": [
    "# 30%로 적용\n",
    "df.loc[(df.title=='KBS교향악단 제773회 정기연주회')&(df.seat_level=='missing'), \n",
    "       ['discount_percent']]=30"
   ]
  },
  {
   "cell_type": "code",
   "execution_count": 59,
   "id": "379a9b05",
   "metadata": {},
   "outputs": [],
   "source": [
    "# 30%로 적용\n",
    "df.loc[(df.title=='2022 서울국제음악제 SIMF오케스트라 폐막음악회 with 오코 카무')&(df.seat_level=='missing'), \n",
    "       ['discount_percent', 'seat_level']]=[30, 'R_price']"
   ]
  },
  {
   "cell_type": "code",
   "execution_count": 60,
   "id": "292cf821",
   "metadata": {},
   "outputs": [],
   "source": [
    "# 30%로 적용\n",
    "df.loc[(df.title=='미클로시 페레니 & 피닌 콜린스 듀오 콘서트 Ⅰ SAC기획')&(df.seat_level=='missing'), \n",
    "       ['discount_percent']]=30"
   ]
  },
  {
   "cell_type": "code",
   "execution_count": 61,
   "id": "0a51144f",
   "metadata": {},
   "outputs": [],
   "source": [
    "# 30%로 적용\n",
    "df.loc[(df.title=='미클로시 페레니 & 피닌 콜린스 듀오 콘서트 Ⅱ SAC기획')&(df.seat_level=='missing'), \n",
    "       ['discount_percent']]=30"
   ]
  },
  {
   "cell_type": "code",
   "execution_count": 62,
   "id": "e7d9c6de",
   "metadata": {
    "scrolled": false
   },
   "outputs": [],
   "source": [
    "# R석 50% 적용\n",
    "df.loc[(df.title=='루돌프 부흐빈더 베토벤 피아노 소나타 전곡 Ⅰ')&(df.price==65000), \n",
    "       ['discount_percent','seat_level']]=[50, 'R_price']"
   ]
  },
  {
   "cell_type": "code",
   "execution_count": 63,
   "id": "c3255860",
   "metadata": {},
   "outputs": [],
   "source": [
    "# S석 복구 - 골드회원 10%인데 50%인거\n",
    "df.loc[(df.title=='루돌프 부흐빈더 베토벤 피아노 소나타 전곡 Ⅰ')&(df.seat_level=='missing')&(df.price==50000),\n",
    "      ['discount_percent', 'seat_level']]=[50, 'S_price']"
   ]
  },
  {
   "cell_type": "code",
   "execution_count": 64,
   "id": "10d0b174",
   "metadata": {},
   "outputs": [],
   "source": [
    "# S석 50% 적용\n",
    "df.loc[(df.title=='루돌프 부흐빈더 베토벤 피아노 소나타 전곡 Ⅰ')&(df.price==50000)&(df.discount_type!='일반')&(df.discount_type!='골드회원 할인 10%'),\n",
    "      ['discount_percent', 'seat_level']]=[50, 'S_price']"
   ]
  },
  {
   "cell_type": "code",
   "execution_count": 65,
   "id": "172373e4",
   "metadata": {},
   "outputs": [],
   "source": [
    "# R석 50% 적용\n",
    "df.loc[(df.title=='루돌프 부흐빈더 베토벤 피아노 소나타 전곡 Ⅱ')&(df.price==65000), \n",
    "       ['discount_percent','seat_level']]=[50, 'R_price']"
   ]
  },
  {
   "cell_type": "code",
   "execution_count": 66,
   "id": "0c3321d9",
   "metadata": {},
   "outputs": [],
   "source": [
    "# S석 복구 - 골드회원 10%인데 50%인거\n",
    "df.loc[(df.title=='루돌프 부흐빈더 베토벤 피아노 소나타 전곡 Ⅱ')&(df.seat_level=='missing')&(df.price==50000),\n",
    "      ['discount_percent', 'seat_level']]=[50, 'S_price']"
   ]
  },
  {
   "cell_type": "code",
   "execution_count": 67,
   "id": "0c89dd73",
   "metadata": {},
   "outputs": [],
   "source": [
    "# S석 50% 적용\n",
    "df.loc[(df.title=='루돌프 부흐빈더 베토벤 피아노 소나타 전곡 Ⅱ')&(df.price==50000)&(df.discount_type!='일반')&(df.discount_type!='골드회원 할인 10%'),\n",
    "      ['discount_percent', 'seat_level']]=[50, 'S_price']"
   ]
  },
  {
   "cell_type": "code",
   "execution_count": 68,
   "id": "69b7a47e",
   "metadata": {},
   "outputs": [],
   "source": [
    "#정가에 10000원, 20000원 비어서 결제 된것 복구\n",
    "for index in df[(df.real_play_date=='2021-11-07')&(df.seat_level=='missing')].index:\n",
    "    if df.loc[index, 'origin_price1']==100000:\n",
    "        df.loc[index, 'price']=(df.loc[index,'origin_price1']+20000)*(1-df.loc[index, 'discount_percent']/100)\n",
    "    else:\n",
    "        df.loc[index, 'price']=(df.loc[index,'origin_price1']+10000)*(1-df.loc[index, 'discount_percent']/100)"
   ]
  },
  {
   "cell_type": "code",
   "execution_count": 69,
   "id": "c39c8aba",
   "metadata": {},
   "outputs": [],
   "source": [
    "# 15%로 적용\n",
    "df.loc[(df.title=='손열음 모차르트 피아노 소나타 전곡 리사이틀 (5.2)')&(df.seat_level=='missing'), \n",
    "       ['discount_percent']]=15"
   ]
  },
  {
   "cell_type": "code",
   "execution_count": 70,
   "id": "6b586bdc",
   "metadata": {},
   "outputs": [],
   "source": [
    "# 15%로 적용\n",
    "df.loc[(df.title=='손열음 모차르트 피아노 소나타 전곡 리사이틀 (5.6)')&(df.seat_level=='missing'), \n",
    "       ['discount_percent']]=15"
   ]
  },
  {
   "cell_type": "markdown",
   "id": "690d28ad",
   "metadata": {},
   "source": [
    "## 기부 지우기"
   ]
  },
  {
   "cell_type": "code",
   "execution_count": 71,
   "id": "86e7269f",
   "metadata": {},
   "outputs": [],
   "source": [
    "# 기부콘서트 - 현정\n",
    "df_dona=df[df['real_play_date']=='2020-05-21']"
   ]
  },
  {
   "cell_type": "code",
   "execution_count": 72,
   "id": "8e853b13",
   "metadata": {},
   "outputs": [],
   "source": [
    "df=df[~(df['real_play_date']=='2020-05-21')]"
   ]
  },
  {
   "cell_type": "markdown",
   "id": "c3c45e24",
   "metadata": {},
   "source": [
    "## 할인 역적용"
   ]
  },
  {
   "cell_type": "code",
   "execution_count": 73,
   "id": "b7d9b3d0",
   "metadata": {},
   "outputs": [],
   "source": [
    "# 추가된 할인률이 있기 때문에 다시 할인 역적용\n",
    "origin_price1=[]\n",
    "        \n",
    "for j in df.index.tolist():\n",
    "    price = df.loc[j, 'price']\n",
    "    calculated_price1 = price * (1/(1-(df.loc[j,'discount_percent'] / 100))) if not pd.isna(df.loc[j,'discount_percent']) else None\n",
    "    origin_price1.append(calculated_price1)    \n",
    "\n",
    "df['origin_price1']=origin_price1"
   ]
  },
  {
   "cell_type": "markdown",
   "id": "2da3ff43",
   "metadata": {},
   "source": [
    "## 좌석 등급 매기기"
   ]
  },
  {
   "cell_type": "code",
   "execution_count": 76,
   "id": "2e2ac20a",
   "metadata": {},
   "outputs": [
    {
     "name": "stdout",
     "output_type": "stream",
     "text": [
      "CPU times: total: 6min 16s\n",
      "Wall time: 13min 5s\n"
     ]
    }
   ],
   "source": [
    "\n",
    "%%time\n",
    "\n",
    "# missing이 없는지 확인\n",
    "data_d=df.copy()\n",
    "import numpy as np\n",
    "seat_level=[None]*data_d.shape[0]\n",
    "\n",
    "for j in range(data_d.shape[0]):\n",
    "    if (np.isnan(data_d.iloc[j,27]))&(set(data_d.iloc[j,36:47].tolist())=={0}):\n",
    "        seat_level[j]='free'\n",
    "    elif (np.isnan(data_d.iloc[j,27]))&(set(data_d.iloc[j,36:47].tolist())!={0}):\n",
    "        seat_level[j]='unknown'\n",
    "    else:   \n",
    "        diff=[(i-int(data_d.iloc[j,27])) for i in data_d.iloc[j,36:47].tolist() if not np.isnan(i)]\n",
    "        if len([i for i in diff if ((i>=0)&(i<=2000))])==1:\n",
    "            diff_value=[i for i in diff if ((i>=0)&(i<=2000))][0]\n",
    "            seat_level[j]=data_d.columns[(data_d.iloc[j,36:47].tolist().index(int(data_d.iloc[j,27])+diff_value)+36)]\n",
    "        elif len([i for i in diff if ((i>=0)&(i<=2000))])==0:\n",
    "            seat_level[j]='missing'\n",
    "        else:\n",
    "            seat_level[j]='more'\n",
    "\n",
    "data_d['seat_level']=seat_level\n",
    "data_d.loc[(data_d['seat_level']=='unknown')&(data_d['price']==0),'seat_level']='free'\n"
   ]
  },
  {
   "cell_type": "code",
   "execution_count": 77,
   "id": "6a012bd8",
   "metadata": {},
   "outputs": [],
   "source": [
    "df=data_d.copy()"
   ]
  },
  {
   "cell_type": "code",
   "execution_count": 78,
   "id": "df51cca8",
   "metadata": {},
   "outputs": [
    {
     "data": {
      "text/plain": [
       "0"
      ]
     },
     "execution_count": 78,
     "metadata": {},
     "output_type": "execute_result"
    }
   ],
   "source": [
    "# missing 개수\n",
    "len(df[(df.price!=0)&(df.seat_level=='missing')])"
   ]
  },
  {
   "cell_type": "markdown",
   "id": "920d083f",
   "metadata": {},
   "source": [
    "# 저장"
   ]
  },
  {
   "cell_type": "code",
   "execution_count": 344,
   "id": "8fba25eb",
   "metadata": {},
   "outputs": [],
   "source": [
    "df.to_csv('unmissing_final.csv', index=False)"
   ]
  }
 ],
 "metadata": {
  "kernelspec": {
   "display_name": "빅콘",
   "language": "python",
   "name": "bigcon"
  },
  "language_info": {
   "codemirror_mode": {
    "name": "ipython",
    "version": 3
   },
   "file_extension": ".py",
   "mimetype": "text/x-python",
   "name": "python",
   "nbconvert_exporter": "python",
   "pygments_lexer": "ipython3",
   "version": "3.11.5"
  }
 },
 "nbformat": 4,
 "nbformat_minor": 5
}
