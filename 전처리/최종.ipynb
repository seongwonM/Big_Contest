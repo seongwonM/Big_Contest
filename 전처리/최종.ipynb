{
 "cells": [
  {
   "cell_type": "code",
   "execution_count": 1,
   "id": "419311fe",
   "metadata": {},
   "outputs": [
    {
     "name": "stdout",
     "output_type": "stream",
     "text": [
      "Requirement already satisfied: koreanize-matplotlib in c:\\users\\horri\\anaconda3\\envs\\bigcon\\lib\\site-packages (0.1.1)\n",
      "Requirement already satisfied: matplotlib in c:\\users\\horri\\anaconda3\\envs\\bigcon\\lib\\site-packages (from koreanize-matplotlib) (3.7.2)\n",
      "Requirement already satisfied: contourpy>=1.0.1 in c:\\users\\horri\\anaconda3\\envs\\bigcon\\lib\\site-packages (from matplotlib->koreanize-matplotlib) (1.0.5)\n",
      "Requirement already satisfied: cycler>=0.10 in c:\\users\\horri\\anaconda3\\envs\\bigcon\\lib\\site-packages (from matplotlib->koreanize-matplotlib) (0.11.0)\n",
      "Requirement already satisfied: fonttools>=4.22.0 in c:\\users\\horri\\anaconda3\\envs\\bigcon\\lib\\site-packages (from matplotlib->koreanize-matplotlib) (4.25.0)\n",
      "Requirement already satisfied: kiwisolver>=1.0.1 in c:\\users\\horri\\anaconda3\\envs\\bigcon\\lib\\site-packages (from matplotlib->koreanize-matplotlib) (1.4.4)\n",
      "Requirement already satisfied: numpy>=1.20 in c:\\users\\horri\\anaconda3\\envs\\bigcon\\lib\\site-packages (from matplotlib->koreanize-matplotlib) (1.25.2)\n",
      "Requirement already satisfied: packaging>=20.0 in c:\\users\\horri\\appdata\\roaming\\python\\python311\\site-packages (from matplotlib->koreanize-matplotlib) (23.1)\n",
      "Requirement already satisfied: pillow>=6.2.0 in c:\\users\\horri\\anaconda3\\envs\\bigcon\\lib\\site-packages (from matplotlib->koreanize-matplotlib) (9.4.0)\n",
      "Requirement already satisfied: pyparsing<3.1,>=2.3.1 in c:\\users\\horri\\anaconda3\\envs\\bigcon\\lib\\site-packages (from matplotlib->koreanize-matplotlib) (3.0.9)\n",
      "Requirement already satisfied: python-dateutil>=2.7 in c:\\users\\horri\\appdata\\roaming\\python\\python311\\site-packages (from matplotlib->koreanize-matplotlib) (2.8.2)\n",
      "Requirement already satisfied: six>=1.5 in c:\\users\\horri\\appdata\\roaming\\python\\python311\\site-packages (from python-dateutil>=2.7->matplotlib->koreanize-matplotlib) (1.16.0)\n"
     ]
    }
   ],
   "source": [
    "import pandas as pd\n",
    "pd.set_option('display.max_columns', None) # 모든 열 출력\n",
    "import numpy as np\n",
    "import seaborn as sns\n",
    "import matplotlib.pyplot as plt\n",
    "pd.set_option('display.max_columns', None) # 모든 열 출력\n",
    "from datetime import datetime, timedelta\n",
    "# 한글폰트 사용을 위해 설치\n",
    "# 아래 모듈을 설치하고 불러오면 별도의 한글폰트 설정이 필요 없습니다.\n",
    "!pip install koreanize-matplotlib\n",
    "\n",
    "import koreanize_matplotlib\n",
    "\n",
    "import matplotlib.pyplot as plt\n",
    "%config InlineBackend.figure_format = 'retina' ## 그림 더 선명하게"
   ]
  },
  {
   "cell_type": "markdown",
   "id": "254fc5d7",
   "metadata": {},
   "source": [
    "# 시작"
   ]
  },
  {
   "cell_type": "code",
   "execution_count": 2,
   "id": "c64bfef5",
   "metadata": {},
   "outputs": [],
   "source": [
    "pd.set_option('display.max_columns', None)"
   ]
  },
  {
   "cell_type": "code",
   "execution_count": 3,
   "id": "621faee6",
   "metadata": {},
   "outputs": [],
   "source": [
    "data=pd.read_csv('found_seat.csv').drop('Unnamed: 0',axis=1)"
   ]
  },
  {
   "cell_type": "code",
   "execution_count": 4,
   "id": "3daac5eb",
   "metadata": {},
   "outputs": [
    {
     "data": {
      "text/plain": [
       "play_date_time\n",
       "2019-12-04 20:00:00    4923\n",
       "2023-07-01 17:00:00    4415\n",
       "2023-06-24 17:00:00    4361\n",
       "2023-02-25 17:00:00    4277\n",
       "2023-06-08 19:30:00    3934\n",
       "                       ... \n",
       "2021-12-12 17:00:00     127\n",
       "2021-05-11 19:30:00     124\n",
       "2019-12-25 20:00:00      82\n",
       "2019-05-10 19:00:00      76\n",
       "2021-09-14 19:30:00      42\n",
       "Name: count, Length: 743, dtype: int64"
      ]
     },
     "execution_count": 4,
     "metadata": {},
     "output_type": "execute_result"
    }
   ],
   "source": [
    "data['play_date_time'].value_counts()"
   ]
  },
  {
   "cell_type": "code",
   "execution_count": 5,
   "id": "54becbd2",
   "metadata": {
    "scrolled": false
   },
   "outputs": [
    {
     "name": "stdout",
     "output_type": "stream",
     "text": [
      "<class 'pandas.core.frame.DataFrame'>\n",
      "RangeIndex: 1095475 entries, 0 to 1095474\n",
      "Data columns (total 55 columns):\n",
      " #   Column             Non-Null Count    Dtype  \n",
      "---  ------             --------------    -----  \n",
      " 0   age                483302 non-null   float64\n",
      " 1   gender             483651 non-null   object \n",
      " 2   membership_type_1  483651 non-null   object \n",
      " 3   membership_type_2  388820 non-null   object \n",
      " 4   membership_type_3  140149 non-null   object \n",
      " 5   membership_type_4  25104 non-null    object \n",
      " 6   membership_type_5  1110 non-null     object \n",
      " 7   tran_date          1095475 non-null  object \n",
      " 8   tran_time          1095475 non-null  object \n",
      " 9   play_date          1095475 non-null  object \n",
      " 10  play_st_time       1095475 non-null  object \n",
      " 11  seat               1095475 non-null  object \n",
      " 12  price              1095475 non-null  int64  \n",
      " 13  ticket_cancel      1095475 non-null  int64  \n",
      " 14  discount_type      1095475 non-null  object \n",
      " 15  performance_code   1095475 non-null  int64  \n",
      " 16  pre_open_date      701323 non-null   object \n",
      " 17  open_date          1095475 non-null  object \n",
      " 18  genre              1070402 non-null  object \n",
      " 19  place              1095475 non-null  object \n",
      " 20  running_time       1095475 non-null  int64  \n",
      " 21  intermission       1095475 non-null  int64  \n",
      " 22  member_yn          1095475 non-null  object \n",
      " 23  real_play_date     1095475 non-null  object \n",
      " 24  discount_percent   503353 non-null   float64\n",
      " 25  origin_price       1095475 non-null  float64\n",
      " 26  origin_price1      503353 non-null   float64\n",
      " 27  origin_price2      11023 non-null    float64\n",
      " 28  title              1082504 non-null  object \n",
      " 29  entry_age          1054653 non-null  object \n",
      " 30  run_time           1046511 non-null  object \n",
      " 31  pay_price          1016010 non-null  object \n",
      " 32  hold               1056217 non-null  object \n",
      " 33  agency             635871 non-null   object \n",
      " 34  sponser            441962 non-null   object \n",
      " 35  R_price            1014287 non-null  float64\n",
      " 36  S_price            1021553 non-null  float64\n",
      " 37  A_price            1013893 non-null  float64\n",
      " 38  B_price            836221 non-null   float64\n",
      " 39  C_price            336409 non-null   float64\n",
      " 40  glee               111107 non-null   float64\n",
      " 41  normal             126269 non-null   float64\n",
      " 42  first_level        88095 non-null    float64\n",
      " 43  second_level       88095 non-null    float64\n",
      " 44  third_level        116160 non-null   float64\n",
      " 45  all                90450 non-null    float64\n",
      " 46  seat_level         1095475 non-null  object \n",
      " 47  play_date_time     1095475 non-null  object \n",
      " 48  floor              1095475 non-null  object \n",
      " 49  block              1095475 non-null  object \n",
      " 50  seat_line          1095475 non-null  int64  \n",
      " 51  seat_number        1095475 non-null  int64  \n",
      " 52  x                  1095475 non-null  int64  \n",
      " 53  y                  1095475 non-null  int64  \n",
      " 54  grade              1095475 non-null  object \n",
      "dtypes: float64(16), int64(9), object(30)\n",
      "memory usage: 459.7+ MB\n"
     ]
    }
   ],
   "source": [
    "df=data.copy()\n",
    "df.info()"
   ]
  },
  {
   "cell_type": "markdown",
   "id": "f8d12666",
   "metadata": {},
   "source": [
    "## grade에 있는 more과 unknown 좌석을 seat_level에 채우기"
   ]
  },
  {
   "cell_type": "code",
   "execution_count": 6,
   "id": "c8b022d7",
   "metadata": {},
   "outputs": [],
   "source": [
    "df.loc[df.seat_level=='unknown','seat_level']=df.loc[df.seat_level=='unknown','grade']\n",
    "df.loc[df.seat_level=='more','seat_level']=df.loc[df.seat_level=='more','grade']"
   ]
  },
  {
   "cell_type": "markdown",
   "id": "e62caf70",
   "metadata": {},
   "source": [
    "## date랑 time 묶기"
   ]
  },
  {
   "cell_type": "code",
   "execution_count": 7,
   "id": "c26200ae",
   "metadata": {},
   "outputs": [],
   "source": [
    "import pandas as pd\n",
    "import numpy as np\n",
    "import seaborn as sns\n",
    "from datetime import datetime, timedelta\n",
    "\n",
    "#날짜랑 시간 합치기\n",
    "df['tran_date_time']=df['tran_date']+' '+df['tran_time']\n",
    "df['play_date_time']=df['play_date']+' '+df['play_st_time']\n",
    "df['tran_date_time'] = pd.to_datetime(df['tran_date_time'], format='%Y-%m-%d %H:%M:%S')\n",
    "df['play_date_time'] = pd.to_datetime(df['play_date_time'], format='%Y-%m-%d %H:%M:%S')\n",
    "\n",
    "#날짜로 변환\n",
    "df['pre_open_date']=pd.to_datetime(df['pre_open_date'])\n",
    "df['open_date']=pd.to_datetime(df['open_date'])\n",
    "df['tran_date']=pd.to_datetime(df['tran_date'])\n",
    "df['play_date']=pd.to_datetime(df['play_date'])\n",
    "\n",
    "#공연일은 7일 앞당기고 거래일, 예매시작일과 선예매 시작은 3일 앞당김\n",
    "df['play_date_time'] = df['play_date_time'] - timedelta(days=7)\n",
    "df['tran_date_time'] = df['tran_date_time'] - timedelta(days=3)\n",
    "df['pre_open_date'] = df['pre_open_date'] - timedelta(days=3)\n",
    "df['open_date'] = df['open_date'] - timedelta(days=3)\n",
    "df['tran_date'] = df['tran_date'] - timedelta(days=3)\n",
    "df['play_date'] = df['tran_date'] - timedelta(days=7)\n"
   ]
  },
  {
   "cell_type": "markdown",
   "id": "658b886f",
   "metadata": {},
   "source": [
    "### 초대권인데 50000원 제거"
   ]
  },
  {
   "cell_type": "code",
   "execution_count": 8,
   "id": "9d564d00",
   "metadata": {
    "scrolled": false
   },
   "outputs": [
    {
     "data": {
      "text/plain": [
       "array([    0, 50000], dtype=int64)"
      ]
     },
     "execution_count": 8,
     "metadata": {},
     "output_type": "execute_result"
    }
   ],
   "source": [
    "df[df['discount_type']=='초대권']['price'].unique()"
   ]
  },
  {
   "cell_type": "code",
   "execution_count": 9,
   "id": "a8ce7dce",
   "metadata": {
    "scrolled": false
   },
   "outputs": [
    {
     "data": {
      "text/html": [
       "<div>\n",
       "<style scoped>\n",
       "    .dataframe tbody tr th:only-of-type {\n",
       "        vertical-align: middle;\n",
       "    }\n",
       "\n",
       "    .dataframe tbody tr th {\n",
       "        vertical-align: top;\n",
       "    }\n",
       "\n",
       "    .dataframe thead th {\n",
       "        text-align: right;\n",
       "    }\n",
       "</style>\n",
       "<table border=\"1\" class=\"dataframe\">\n",
       "  <thead>\n",
       "    <tr style=\"text-align: right;\">\n",
       "      <th></th>\n",
       "      <th>age</th>\n",
       "      <th>gender</th>\n",
       "      <th>membership_type_1</th>\n",
       "      <th>membership_type_2</th>\n",
       "      <th>membership_type_3</th>\n",
       "      <th>membership_type_4</th>\n",
       "      <th>membership_type_5</th>\n",
       "      <th>tran_date</th>\n",
       "      <th>tran_time</th>\n",
       "      <th>play_date</th>\n",
       "      <th>play_st_time</th>\n",
       "      <th>seat</th>\n",
       "      <th>price</th>\n",
       "      <th>ticket_cancel</th>\n",
       "      <th>discount_type</th>\n",
       "      <th>performance_code</th>\n",
       "      <th>pre_open_date</th>\n",
       "      <th>open_date</th>\n",
       "      <th>genre</th>\n",
       "      <th>place</th>\n",
       "      <th>running_time</th>\n",
       "      <th>intermission</th>\n",
       "      <th>member_yn</th>\n",
       "      <th>real_play_date</th>\n",
       "      <th>discount_percent</th>\n",
       "      <th>origin_price</th>\n",
       "      <th>origin_price1</th>\n",
       "      <th>origin_price2</th>\n",
       "      <th>title</th>\n",
       "      <th>entry_age</th>\n",
       "      <th>run_time</th>\n",
       "      <th>pay_price</th>\n",
       "      <th>hold</th>\n",
       "      <th>agency</th>\n",
       "      <th>sponser</th>\n",
       "      <th>R_price</th>\n",
       "      <th>S_price</th>\n",
       "      <th>A_price</th>\n",
       "      <th>B_price</th>\n",
       "      <th>C_price</th>\n",
       "      <th>glee</th>\n",
       "      <th>normal</th>\n",
       "      <th>first_level</th>\n",
       "      <th>second_level</th>\n",
       "      <th>third_level</th>\n",
       "      <th>all</th>\n",
       "      <th>seat_level</th>\n",
       "      <th>play_date_time</th>\n",
       "      <th>floor</th>\n",
       "      <th>block</th>\n",
       "      <th>seat_line</th>\n",
       "      <th>seat_number</th>\n",
       "      <th>x</th>\n",
       "      <th>y</th>\n",
       "      <th>grade</th>\n",
       "      <th>tran_date_time</th>\n",
       "    </tr>\n",
       "  </thead>\n",
       "  <tbody>\n",
       "    <tr>\n",
       "      <th>24507</th>\n",
       "      <td>NaN</td>\n",
       "      <td>NaN</td>\n",
       "      <td>NaN</td>\n",
       "      <td>NaN</td>\n",
       "      <td>NaN</td>\n",
       "      <td>NaN</td>\n",
       "      <td>NaN</td>\n",
       "      <td>2023-03-23</td>\n",
       "      <td>11:28:00</td>\n",
       "      <td>2023-03-16</td>\n",
       "      <td>19:30:00</td>\n",
       "      <td>1층 C블록13열 1</td>\n",
       "      <td>50000</td>\n",
       "      <td>2</td>\n",
       "      <td>초대권</td>\n",
       "      <td>2231</td>\n",
       "      <td>NaT</td>\n",
       "      <td>2023-03-17</td>\n",
       "      <td>교향곡</td>\n",
       "      <td>콘서트홀</td>\n",
       "      <td>120</td>\n",
       "      <td>0</td>\n",
       "      <td>N</td>\n",
       "      <td>2023-05-03</td>\n",
       "      <td>NaN</td>\n",
       "      <td>50000.0</td>\n",
       "      <td>NaN</td>\n",
       "      <td>NaN</td>\n",
       "      <td>제44회 유나이티드 필하모닉 오케스트라와 함께하는 가족음악회</td>\n",
       "      <td>7세 이상</td>\n",
       "      <td>120</td>\n",
       "      <td>전석 50,000원</td>\n",
       "      <td>(재)유나이티드문화재단</td>\n",
       "      <td>예인예술기획</td>\n",
       "      <td>국민일보, 기독교TV, C channel, 극동방송</td>\n",
       "      <td>NaN</td>\n",
       "      <td>NaN</td>\n",
       "      <td>NaN</td>\n",
       "      <td>NaN</td>\n",
       "      <td>NaN</td>\n",
       "      <td>NaN</td>\n",
       "      <td>NaN</td>\n",
       "      <td>NaN</td>\n",
       "      <td>NaN</td>\n",
       "      <td>NaN</td>\n",
       "      <td>50000.0</td>\n",
       "      <td>unknown</td>\n",
       "      <td>2023-05-03 19:30:00</td>\n",
       "      <td>1층</td>\n",
       "      <td>C</td>\n",
       "      <td>13</td>\n",
       "      <td>1</td>\n",
       "      <td>44</td>\n",
       "      <td>-40</td>\n",
       "      <td>unknown</td>\n",
       "      <td>2023-03-23 11:28:00</td>\n",
       "    </tr>\n",
       "  </tbody>\n",
       "</table>\n",
       "</div>"
      ],
      "text/plain": [
       "       age gender membership_type_1 membership_type_2 membership_type_3  \\\n",
       "24507  NaN    NaN               NaN               NaN               NaN   \n",
       "\n",
       "      membership_type_4 membership_type_5  tran_date tran_time  play_date  \\\n",
       "24507               NaN               NaN 2023-03-23  11:28:00 2023-03-16   \n",
       "\n",
       "      play_st_time         seat  price  ticket_cancel discount_type  \\\n",
       "24507     19:30:00  1층 C블록13열 1  50000              2           초대권   \n",
       "\n",
       "       performance_code pre_open_date  open_date genre place  running_time  \\\n",
       "24507              2231           NaT 2023-03-17   교향곡  콘서트홀           120   \n",
       "\n",
       "       intermission member_yn real_play_date  discount_percent  origin_price  \\\n",
       "24507             0         N     2023-05-03               NaN       50000.0   \n",
       "\n",
       "       origin_price1  origin_price2                              title  \\\n",
       "24507            NaN            NaN  제44회 유나이티드 필하모닉 오케스트라와 함께하는 가족음악회   \n",
       "\n",
       "      entry_age run_time   pay_price          hold  agency  \\\n",
       "24507     7세 이상      120  전석 50,000원  (재)유나이티드문화재단  예인예술기획   \n",
       "\n",
       "                            sponser  R_price  S_price  A_price  B_price  \\\n",
       "24507  국민일보, 기독교TV, C channel, 극동방송      NaN      NaN      NaN      NaN   \n",
       "\n",
       "       C_price  glee  normal  first_level  second_level  third_level      all  \\\n",
       "24507      NaN   NaN     NaN          NaN           NaN          NaN  50000.0   \n",
       "\n",
       "      seat_level      play_date_time floor block  seat_line  seat_number   x  \\\n",
       "24507    unknown 2023-05-03 19:30:00    1층     C         13            1  44   \n",
       "\n",
       "        y    grade      tran_date_time  \n",
       "24507 -40  unknown 2023-03-23 11:28:00  "
      ]
     },
     "execution_count": 9,
     "metadata": {},
     "output_type": "execute_result"
    }
   ],
   "source": [
    "df[(df['discount_type']=='초대권')&(df['price']==50000)]"
   ]
  },
  {
   "cell_type": "code",
   "execution_count": 10,
   "id": "64b4ed1e",
   "metadata": {},
   "outputs": [],
   "source": [
    "df=df[~((df['discount_type']=='초대권')&(df['price']==50000))]"
   ]
  },
  {
   "cell_type": "markdown",
   "id": "a7447ec0",
   "metadata": {},
   "source": [
    "## 전석초대 빼기"
   ]
  },
  {
   "cell_type": "code",
   "execution_count": 11,
   "id": "fb88e0cd",
   "metadata": {},
   "outputs": [],
   "source": [
    "#모든 좌석등급의 가격이 0원인 공연 삭제\n",
    "df=df[df['all']!=0]"
   ]
  },
  {
   "cell_type": "code",
   "execution_count": 12,
   "id": "53b25d6a",
   "metadata": {},
   "outputs": [
    {
     "data": {
      "text/plain": [
       "675"
      ]
     },
     "execution_count": 12,
     "metadata": {},
     "output_type": "execute_result"
    }
   ],
   "source": [
    "#모든 price가 0인 공연 삭제\n",
    "df1=df.groupby('play_date_time')['price'].mean().reset_index()\n",
    "df1=df1[df1['price']==0]\n",
    "play_date_time_list = df1['play_date_time'].tolist()\n",
    "df=df[~df['play_date_time'].isin(play_date_time_list)]\n",
    "df['play_date_time'].nunique()"
   ]
  },
  {
   "cell_type": "markdown",
   "id": "0f3633ac",
   "metadata": {},
   "source": [
    "## 차액 지우기"
   ]
  },
  {
   "cell_type": "code",
   "execution_count": 13,
   "id": "9dbdcbb3",
   "metadata": {},
   "outputs": [],
   "source": [
    "df=df[df['discount_type']!='차액']"
   ]
  },
  {
   "cell_type": "markdown",
   "id": "5013fb66",
   "metadata": {},
   "source": [
    "## missing -> free로 바꾸기(행101개)"
   ]
  },
  {
   "cell_type": "code",
   "execution_count": 14,
   "id": "10fe6121",
   "metadata": {},
   "outputs": [
    {
     "data": {
      "text/plain": [
       "array([0], dtype=int64)"
      ]
     },
     "execution_count": 14,
     "metadata": {},
     "output_type": "execute_result"
    }
   ],
   "source": [
    "df[df['seat_level']=='missing']['price'].unique()"
   ]
  },
  {
   "cell_type": "code",
   "execution_count": 15,
   "id": "bafddcc1",
   "metadata": {},
   "outputs": [],
   "source": [
    "df.loc[df.seat_level=='missing','seat_level']='free'  #discount_percent가 있는데 가격이 0원임"
   ]
  },
  {
   "cell_type": "markdown",
   "id": "6cb8a035",
   "metadata": {},
   "source": [
    "## 중복 지우기, 공연진행석 지우기 (행 지우기)"
   ]
  },
  {
   "cell_type": "code",
   "execution_count": 16,
   "id": "e025ef76",
   "metadata": {},
   "outputs": [],
   "source": [
    "## 모든 열 중복인 14개 삭제\n",
    "df.drop_duplicates(inplace = True)\n",
    "\n",
    "## 공연진행석 삭제\n",
    "df = df[df['discount_type']!='공연진행석']"
   ]
  },
  {
   "cell_type": "markdown",
   "id": "456173f9",
   "metadata": {},
   "source": [
    "## 안 쓰는 열 지우기, 열 이름 바꾸기"
   ]
  },
  {
   "cell_type": "code",
   "execution_count": 17,
   "id": "d7d0ebe5",
   "metadata": {},
   "outputs": [],
   "source": [
    "## 안 쓰는 열 삭제\n",
    "cl = ['origin_price', 'origin_price2', 'run_time','pay_price','place']\n",
    "df.drop(columns=cl, axis =1, inplace =True)\n",
    "\n",
    "## origin_price1열 이름 바꾸기 -> rev_dis 파생변수 생성완료\n",
    "df = df.rename(columns={'origin_price1':'rev_dis'})"
   ]
  },
  {
   "cell_type": "markdown",
   "id": "e1f383e5",
   "metadata": {},
   "source": [
    "## 러닝타임 정리하기"
   ]
  },
  {
   "cell_type": "code",
   "execution_count": 18,
   "id": "3f8378c0",
   "metadata": {},
   "outputs": [],
   "source": [
    "#러닝타임 0이면 러닝타임 70, 인터미션 0으로 \n",
    "#러닝타임 15면 러닝타임 90, 인터미션 15로 넣어줌\n",
    "df.loc[df['running_time'] == 0, ['intermission','running_time']] = [0,70]\n",
    "df.loc[df['running_time'] == 15, ['intermission','running_time']] = [15,90]"
   ]
  },
  {
   "cell_type": "markdown",
   "id": "25e9a7ff",
   "metadata": {},
   "source": [
    "## 날짜별 정렬 및 공연명 라벨링"
   ]
  },
  {
   "cell_type": "code",
   "execution_count": 19,
   "id": "309c242c",
   "metadata": {},
   "outputs": [],
   "source": [
    "#play_date_time -> tran_date_time 순으로 정렬\n",
    "df=df.sort_values(by=['play_date_time','tran_date_time'])\n",
    "\n",
    "#play_date_time이 바뀔 때마다 숫자 바꿔서 라벨링\n",
    "df['label'] = (df['play_date_time'] != df['play_date_time'].shift()).cumsum()"
   ]
  },
  {
   "cell_type": "markdown",
   "id": "18be471f",
   "metadata": {},
   "source": [
    "## cancel_yn 파생변수 만들고, 같은 좌석에 대하여 여러번 예매된 경우 지우기( 30000개 이상 행 )\n",
    "- cancel_yn을 이 부분에 사용해야해서 부득이하게 이 부분에 넣어둠\n",
    "- cancel_yn(마지막에 그 자리가 결국 취소가 됐는지 여부)\n",
    "- 취소 : 1\n",
    "- 취소x : 0"
   ]
  },
  {
   "cell_type": "code",
   "execution_count": 20,
   "id": "01086cec",
   "metadata": {},
   "outputs": [],
   "source": [
    "# 마지막에 결국 취소가 됐는지 여부(cancel_yn) 변수\n",
    "ticket_data = df[['play_date_time','seat','ticket_cancel','tran_date_time']]\n",
    "#공연별로 맨 마지막 거래의 ticket_cancel을 확인함\n",
    "last_ticket_cancel = ticket_data.sort_values('tran_date_time').groupby(['play_date_time','seat']).tail(1)\n",
    "last_ticket_cancel.loc[:,'cancel_yn'] = last_ticket_cancel['ticket_cancel'].apply(lambda x: 0 if x == 0 else 1)\n",
    "df=df.merge(last_ticket_cancel[['play_date_time','seat','cancel_yn']],how='left')\n",
    "# 취소가 됐으면 1, 취소 안됐으면 0"
   ]
  },
  {
   "cell_type": "code",
   "execution_count": 21,
   "id": "534ea8c3",
   "metadata": {},
   "outputs": [],
   "source": [
    "# 결국 취소된 티켓인데 ticket_cancel이 0인 행 삭제\n",
    "df=df.drop(df[(df['ticket_cancel']==0)&(df['cancel_yn']==1)].index)\n",
    "df0=df[(df['ticket_cancel']==0)&(df['cancel_yn']==0)]  # 실제 예매된 공연\n",
    "df1=df.drop(df0.index) #df0 + df1 = df\n",
    "\n",
    "#ticket_cancel이 0인 경우에 대해서 라벨과 좌석이 중복이면 맨 아래 행만 남기고 나머지 삭제\n",
    "df0=df0.drop_duplicates(subset=['play_date_time','seat'],keep='last')\n",
    "df=pd.concat([df0,df1]) #df0과 df1 합쳐줌"
   ]
  },
  {
   "cell_type": "code",
   "execution_count": 22,
   "id": "5e6460cf",
   "metadata": {},
   "outputs": [],
   "source": [
    "df=df.sort_values(['play_date_time','tran_date_time'])"
   ]
  },
  {
   "cell_type": "markdown",
   "id": "55cd766c",
   "metadata": {},
   "source": [
    "## 나이, 유료무료 회원 멤버십, 할인/나이 채우기, 멤버십 유뮤"
   ]
  },
  {
   "cell_type": "code",
   "execution_count": 23,
   "id": "cbcdffd8",
   "metadata": {},
   "outputs": [],
   "source": [
    "#회원이 아닌데 멤버쉽타입이 있는 경우 회원이라고 간주\n",
    "df.loc[(df['member_yn']=='N')&(df['membership_type_1'].notna()),'member_yn']='Y'\n",
    "\n",
    "#나이 멤버쉽 열 생성\n",
    "#회원이면 일반으로, 비회원이면 비회원으로 입력\n",
    "df['age_mb'] = df['member_yn'].apply(lambda x: '일반' if x == 'Y' else '비회원')\n",
    "#싹틔우미로 변경\n",
    "idx=df[(df['membership_type_2']=='싹틔우미')|(df['membership_type_3']=='싹틔우미') \n",
    "     |(df['membership_type_4']=='싹틔우미')|(df['membership_type_5']=='싹틔우미')].index\n",
    "df.loc[idx, 'age_mb'] = '싹틔우미' \n",
    "#노블로 변경\n",
    "idx=df[(df['membership_type_2']=='노블')|(df['membership_type_3']=='노블')\n",
    "     |(df['membership_type_4']=='노블')|(df['membership_type_5']=='노블')].index\n",
    "df.loc[idx, 'age_mb'] = '노블' \n",
    "\n",
    "#유료멤버쉽 원핫인코딩으로 변환\n",
    "#유료 멤버쉽 전부 0으로 설정\n",
    "df['gld_mb']=0 \n",
    "df['bl_mb']=0\n",
    "df['grn_mb']=0\n",
    "#골드에 1 넣음\n",
    "idx=df[(df['membership_type_1']=='골드')|(df['membership_type_2']=='골드')|(df['membership_type_3']=='골드')\n",
    "     |(df['membership_type_4']=='골드')|(df['membership_type_5']=='골드')].index\n",
    "df.loc[idx, 'gld_mb'] = 1\n",
    "#블루에 1 넣음\n",
    "idx=df[(df['membership_type_1']=='블루')|(df['membership_type_2']=='블루')|(df['membership_type_3']=='블루')\n",
    "     |(df['membership_type_4']=='블루')|(df['membership_type_5']=='블루')].index\n",
    "df.loc[idx, 'bl_mb'] = 1\n",
    "#그린에 1 넣음\n",
    "idx=df[(df['membership_type_1']=='그린')|(df['membership_type_2']=='그린')|(df['membership_type_3']=='그린')\n",
    "     |(df['membership_type_4']=='그린')|(df['membership_type_5']=='그린')].index\n",
    "df.loc[idx, 'grn_mb'] = 1\n",
    "\n",
    "#멤버쉽 열 삭제\n",
    "cl = ['membership_type_1', 'membership_type_2', 'membership_type_3', 'membership_type_4', 'membership_type_5','member_yn']\n",
    "df.drop(columns=cl,inplace=True)"
   ]
  },
  {
   "cell_type": "code",
   "execution_count": 24,
   "id": "6f5b0ed3",
   "metadata": {},
   "outputs": [],
   "source": [
    "#싹틔우미 아닌데 싹틔우미 할인 받은 경우 -> 싹틔우미로 채우기\n",
    "idx=df[(df['age_mb']!='싹틔우미')&(df['discount_type'].str.contains('싹틔우미'))].index\n",
    "df.loc[idx,'age_mb']='싹틔우미'\n",
    "\n",
    "#노블 아닌데 노블 할인 받은 경우 -> 노블로 채우기\n",
    "idx=df[(df['age_mb']!='노블')&(df['discount_type'].str.contains('노블'))].index\n",
    "df.loc[idx,'age_mb']='노블'\n",
    "\n",
    "#골드회원 아닌데 골드할인 받은 경우 -> 골드로 채우기\n",
    "idx=df[(df['gld_mb']==0)&(df['discount_type'].str.contains('골드'))].index\n",
    "df.loc[idx,'gld_mb']=1\n",
    "\n",
    "#블루회원 아닌데 블루할인 받은 경우 -> 블루로 채우기\n",
    "idx=df[(df['bl_mb']==0)&(df['discount_type'].str.contains('블루'))].index\n",
    "df.loc[idx,'bl_mb']=1\n",
    "\n",
    "#그린회원 아닌데 그린할인 받은 경우 -> 그린으로 채우기\n",
    "idx=df[(df['grn_mb']==0)&(df['discount_type'].str.contains('그린'))].index\n",
    "df.loc[idx,'grn_mb']=1"
   ]
  },
  {
   "cell_type": "code",
   "execution_count": 25,
   "id": "2061caf6",
   "metadata": {},
   "outputs": [],
   "source": [
    "#유료멤버쉽 있는데 비회원일 경우 무료멤버쉽 일반으로 채움\n",
    "df.loc[((df['gld_mb']==1)|(df['bl_mb']==1)|(df['grn_mb']==1))&(df['age_mb']=='비회원'),'age_mb']='일반'"
   ]
  },
  {
   "cell_type": "markdown",
   "id": "bfe1a4ac",
   "metadata": {},
   "source": [
    "## 장르채우기"
   ]
  },
  {
   "cell_type": "code",
   "execution_count": 26,
   "id": "13723f5e",
   "metadata": {},
   "outputs": [],
   "source": [
    "# 아동 대상으로 한 공연 장르 아동으로 분류\n",
    "df.loc[(df['entry_age']=='48개월 이상')&(df['entry_age']=='36개월 이상')&(df['title']=='핑크퐁 클래식 나라'),'genre']='아동'\n",
    "#입장연령 삭제 \n",
    "df.drop('entry_age', axis=1, inplace=True)"
   ]
  },
  {
   "cell_type": "code",
   "execution_count": 27,
   "id": "a8f4fcd3",
   "metadata": {
    "scrolled": true
   },
   "outputs": [
    {
     "data": {
      "text/plain": [
       "array(['LG와 함께하는 제15회 서울국제음악콩쿠르(결선/3.30)', '제 16회 차이콥스키 콩쿠르 우승자 갈라콘서트',\n",
       "       'KSO국제지휘콩쿠르 결선 : 코리안심포니오케스트라 공동주최', '2021 서울시향 쇼팽 콩쿠르 스페셜',\n",
       "       '쇼팽 피아노 콩쿠르 우승자 브루스 리우 피아노 리사이틀'], dtype=object)"
      ]
     },
     "execution_count": 27,
     "metadata": {},
     "output_type": "execute_result"
    }
   ],
   "source": [
    "df[df['title'].str.contains(\"콩쿠르\",na=False)]['title'].unique()"
   ]
  },
  {
   "cell_type": "code",
   "execution_count": 28,
   "id": "5e578e5f",
   "metadata": {},
   "outputs": [],
   "source": [
    "#콩쿠르일 경우 장르에 콩쿠르라고 넣어줌\n",
    "df.loc[(df['title']=='LG와 함께하는 제15회 서울국제음악콩쿠르(결선/3.30)')|(df['title']=='KSO국제지휘콩쿠르 결선 : 코리안심포니오케스트라 공동주최'), 'genre'] = '콩쿠르'"
   ]
  },
  {
   "cell_type": "code",
   "execution_count": 29,
   "id": "eaad8d2b",
   "metadata": {},
   "outputs": [],
   "source": [
    "#장르 nan인 경우 홈페이지에서 찾은 장르로 채우기\n",
    "from pandas import Timestamp\n",
    "playdate=[Timestamp('2023-06-29 11:00:00'),Timestamp('2023-03-09 11:00:00'),Timestamp('2022-11-13 20:00:00'),Timestamp('2023-03-24 11:00:00'),Timestamp('2023-05-11 11:00:00'),\n",
    " Timestamp('2022-02-19 17:00:00'),Timestamp('2023-05-11 19:30:00'),Timestamp('2023-06-23 11:00:00'),Timestamp('2021-06-30 19:30:00'),Timestamp('2022-03-12 17:00:00'),Timestamp('2021-09-05 17:00:00')]\n",
    "ge_list=['뮤지컬','클래식','클래식','클래식','클래식','클래식','클래식','뮤지컬','교향곡','클래식','실내악']\n",
    "for i in range(len(playdate)):\n",
    "    df.loc[df['play_date_time']==playdate[i],'genre']=ge_list[i]"
   ]
  },
  {
   "cell_type": "markdown",
   "id": "c50232ad",
   "metadata": {},
   "source": [
    "# 파생변수 만들기\n",
    "- loyalty\n",
    "- seat_count\n",
    "- cancel_yn(위에서 이미 했음)\n",
    "- ticket_count\n",
    "- like\n",
    "- like_ratio\n",
    "- min_price\n",
    "- rev_seat\n",
    "- rank\n",
    "- afford\n",
    "- cancel_num\n",
    "- tran_rate\n",
    "- distance\n",
    "- days\n",
    "- angle_degrees\n",
    "- divide_discount\n",
    "- seat_count\n",
    "- seat_hot"
   ]
  },
  {
   "cell_type": "code",
   "execution_count": 30,
   "id": "e676a826",
   "metadata": {
    "scrolled": false
   },
   "outputs": [
    {
     "name": "stdout",
     "output_type": "stream",
     "text": [
      "<class 'pandas.core.frame.DataFrame'>\n",
      "Index: 921469 entries, 0 to 954336\n",
      "Data columns (total 50 columns):\n",
      " #   Column            Non-Null Count   Dtype         \n",
      "---  ------            --------------   -----         \n",
      " 0   age               449582 non-null  float64       \n",
      " 1   gender            449931 non-null  object        \n",
      " 2   tran_date         921469 non-null  datetime64[ns]\n",
      " 3   tran_time         921469 non-null  object        \n",
      " 4   play_date         921469 non-null  datetime64[ns]\n",
      " 5   play_st_time      921469 non-null  object        \n",
      " 6   seat              921469 non-null  object        \n",
      " 7   price             921469 non-null  int64         \n",
      " 8   ticket_cancel     921469 non-null  int64         \n",
      " 9   discount_type     921469 non-null  object        \n",
      " 10  performance_code  921469 non-null  int64         \n",
      " 11  pre_open_date     628543 non-null  datetime64[ns]\n",
      " 12  open_date         921469 non-null  datetime64[ns]\n",
      " 13  genre             921469 non-null  object        \n",
      " 14  running_time      921469 non-null  int64         \n",
      " 15  intermission      921469 non-null  int64         \n",
      " 16  real_play_date    921469 non-null  object        \n",
      " 17  discount_percent  468522 non-null  float64       \n",
      " 18  rev_dis           468522 non-null  float64       \n",
      " 19  title             917149 non-null  object        \n",
      " 20  hold              891437 non-null  object        \n",
      " 21  agency            532074 non-null  object        \n",
      " 22  sponser           382654 non-null  object        \n",
      " 23  R_price           881655 non-null  float64       \n",
      " 24  S_price           888711 non-null  float64       \n",
      " 25  A_price           881506 non-null  float64       \n",
      " 26  B_price           710948 non-null  float64       \n",
      " 27  C_price           235739 non-null  float64       \n",
      " 28  glee              21316 non-null   float64       \n",
      " 29  normal            35959 non-null   float64       \n",
      " 30  first_level       109 non-null     float64       \n",
      " 31  second_level      109 non-null     float64       \n",
      " 32  third_level       26457 non-null   float64       \n",
      " 33  all               0 non-null       float64       \n",
      " 34  seat_level        921469 non-null  object        \n",
      " 35  play_date_time    921469 non-null  datetime64[ns]\n",
      " 36  floor             921469 non-null  object        \n",
      " 37  block             921469 non-null  object        \n",
      " 38  seat_line         921469 non-null  int64         \n",
      " 39  seat_number       921469 non-null  int64         \n",
      " 40  x                 921469 non-null  int64         \n",
      " 41  y                 921469 non-null  int64         \n",
      " 42  grade             921469 non-null  object        \n",
      " 43  tran_date_time    921469 non-null  datetime64[ns]\n",
      " 44  label             921469 non-null  int32         \n",
      " 45  cancel_yn         921469 non-null  int64         \n",
      " 46  age_mb            921469 non-null  object        \n",
      " 47  gld_mb            921469 non-null  int64         \n",
      " 48  bl_mb             921469 non-null  int64         \n",
      " 49  grn_mb            921469 non-null  int64         \n",
      "dtypes: datetime64[ns](6), float64(14), int32(1), int64(13), object(16)\n",
      "memory usage: 387.3+ MB\n"
     ]
    }
   ],
   "source": [
    "data=df.copy()\n",
    "data.info()"
   ]
  },
  {
   "cell_type": "markdown",
   "id": "7deeeab9",
   "metadata": {},
   "source": [
    "## loyalty(고객충성도)\n",
    "- 비회원은 0, 무료회원은 1\n",
    "- 유료 회원은 가중치를 연간 회원비로 하여 더함"
   ]
  },
  {
   "cell_type": "code",
   "execution_count": 31,
   "id": "d3d4525b",
   "metadata": {},
   "outputs": [],
   "source": [
    "# 고객 충성도 = 골드 회원은 가중치 10, 블루 회원이면 가중치 4, 그린이면 2(연회비 기준), 무료회원이면 1, 비회원이면 0\n",
    "data['loyalty']=data['gld_mb']*10+data['bl_mb']*4+data['grn_mb']*2+[int(i!='비회원') for i in data['age_mb']]"
   ]
  },
  {
   "cell_type": "markdown",
   "id": "955e327a",
   "metadata": {},
   "source": [
    "## ticket_count(공연에서 예매된 좌석 수)"
   ]
  },
  {
   "cell_type": "code",
   "execution_count": 32,
   "id": "9717c556",
   "metadata": {},
   "outputs": [],
   "source": [
    "# 예매된 좌석 수 (ticket_count) 변수 -> ticket_count/전체좌석수 = 예매율\n",
    "performance_data = data[['play_date_time']].drop_duplicates()\n",
    "series=data.groupby(['play_date_time']).cancel_yn.count()-data.groupby(['play_date_time']).cancel_yn.sum()\n",
    "series.name='ticket_count'\n",
    "data=pd.merge(data,pd.merge(left=performance_data,right=series,left_on='play_date_time',right_index=True),on='play_date_time')"
   ]
  },
  {
   "cell_type": "markdown",
   "id": "28f4f763",
   "metadata": {},
   "source": [
    "## like (공연을 얼마나 빨리 예매했는지, 즉 공연에 얼마나 관심이 많은지)\n",
    "- 이때부터 데이터 이름 = data_d\n",
    "- like = (play_date_time-tran_date_time)/(play_date_time-open_date)  -> 선예매가 없으면\n",
    "- like = (play_dat_timee-tran_date_time)/(play_date_time-pre_open_date)  -> 선예매가 있으면\n",
    "\n",
    "- 단 오류 행 존재(오류가 있는 공연이 37개)\n",
    "1. 선예매가 예매 오픈일보다 느린 경우=> 둘의 선후관계를 바꿔줌\n",
    "2. 선예매가 없는 공연에 open_date보다 tran_date가 빠를 때\n",
    "   선예매가 있는 공연에 대해 pre_open보다 tran_date가 빠를 때\n",
    "   \n",
    "   => 공연에 오류 행이 많으면 가장 빠른 예매일을 pre_open 혹은 open_date로 바꿔준다\n",
    "   \n",
    "   => 그 공연을 예매한 전체 티켓 수 중에 오류가 있는 행이 적으면 그 행 자체를 오류나 테스트 데이터로 판단하고 삭제(기준 : 전체 티켓 수 중 5%보다 오류행이 적고, 오류행 40개 미만) 미만)\n"
   ]
  },
  {
   "cell_type": "code",
   "execution_count": 33,
   "id": "d04668a5",
   "metadata": {
    "scrolled": true
   },
   "outputs": [],
   "source": [
    "#선예매가 예매오픈보다 느린 경우 (2가지) -> 오류라고 판단, 선후 관계를 바꿔줌\n",
    "data.loc[data['play_date_time']=='2022-12-20 20:00:00','pre_open_date']=datetime(2022,10,27)\n",
    "data.loc[data['play_date_time']=='2022-12-20 20:00:00','open_date']=datetime(2022,11,2)\n",
    "data.loc[data['play_date_time']=='2021-12-04 17:00:00','pre_open_date']=datetime(2021,11,15)\n",
    "data.loc[data['play_date_time']=='2021-12-04 17:00:00','open_date']=datetime(2021,11,16)"
   ]
  },
  {
   "cell_type": "code",
   "execution_count": 37,
   "id": "31b6ae05",
   "metadata": {},
   "outputs": [],
   "source": [
    "# 그 자리를 예매한 총 고객 수\n",
    "data_perf=data.groupby(['play_date_time']).count()['price']\n",
    "# 선예매가 없는 공연에 대해 open_date보다 tran_date가 빠를 때\n",
    "a_1=data[(data['open_date']>data['tran_date'])&(data['pre_open_date'].isna()==True)&(data.price!=0)]['play_date_time'].value_counts()\n",
    "# 선예매가 있는 공연에 대해 pre_open_date보다 tran_date가 빠를 때\n",
    "a_2=data[(data['pre_open_date']>data['tran_date'])&(data['pre_open_date'].isna()==False)&(data.price!=0)]['play_date_time'].value_counts()\n",
    "a_3=pd.concat([a_1,a_2])\n",
    "fin=pd.merge(a_3.to_frame(),data_perf.to_frame(),left_index=True, right_index=True)\n",
    "fin['ratio']=fin['count']/fin['price']\n",
    "fin1=fin[(fin.ratio>0.05)&(fin['count']>40)]  #이 공연에 대해서는 pre_open=open=min(tran)\n",
    "fin1=pd.merge(data.groupby('play_date_time')[['tran_date_time','open_date','pre_open_date','play_date_time']].min(),fin1,left_index=True, right_index=True)\n",
    "fin1['diff']=fin1['open_date']-fin1['tran_date_time']\n"
   ]
  },
  {
   "cell_type": "code",
   "execution_count": 38,
   "id": "6cc75beb",
   "metadata": {
    "scrolled": true
   },
   "outputs": [],
   "source": [
    "data_d=data.copy()\n",
    "for i in data_d.index.tolist():\n",
    "    str_date=data_d.loc[i,'play_date_time']\n",
    "    if data_d.loc[i,'play_date_time'] in fin1.index.tolist():\n",
    "        data_d.loc[i,'pre_open_date']=fin1.loc[str_date]['tran_date_time']\n",
    "        data_d.loc[i,'open_date']=fin1.loc[str_date]['tran_date_time']\n",
    "    else:\n",
    "        pass\n",
    "\n",
    "pre=(data_d.play_date_time-data_d.tran_date_time)/(data_d.play_date_time-data_d.pre_open_date)\n",
    "not_pre=((data_d.play_date_time-data_d.tran_date_time)/(data_d.play_date_time-data_d.open_date))\n",
    "data_d.loc[:,'like']=pre.fillna(not_pre)\n",
    "\n",
    "# tran_date, open_date, pre_open_date 사이에 안맞는거 빼기 (3000개 정도 나옴)\n",
    "data_d=data_d[data_d['like']<=1]\n"
   ]
  },
  {
   "cell_type": "markdown",
   "id": "77d93efb",
   "metadata": {},
   "source": [
    "## like_ratio (like의 공연의 퍼센타일)\n",
    "- 공연 내에서의 상대적인 like"
   ]
  },
  {
   "cell_type": "code",
   "execution_count": 39,
   "id": "cf6239f3",
   "metadata": {},
   "outputs": [],
   "source": [
    "#like_ratio 변수 -> like의 공연의 퍼센타일\n",
    "import numpy as np\n",
    "def percentile_func(x):\n",
    "    return np.percentile(x,(x.index(value)+1)/len(x)*100)\n",
    "\n",
    "data_d.loc[:,'like_ratio']=data_d.groupby('play_date_time')['like'].transform(lambda x: x.rank(pct=True) * 100)"
   ]
  },
  {
   "cell_type": "markdown",
   "id": "91473434",
   "metadata": {},
   "source": [
    "## min_price( 공연에 매겨진 좌석 등급의 가격 중 가장 싼 것)"
   ]
  },
  {
   "cell_type": "code",
   "execution_count": 40,
   "id": "26174fb5",
   "metadata": {},
   "outputs": [],
   "source": [
    "data_d['min_price']=data_d.iloc[:, 23:34].min(axis=1)"
   ]
  },
  {
   "cell_type": "markdown",
   "id": "cd221ff1",
   "metadata": {},
   "source": [
    "## rev_seat(고객의 실제 좌석 등급의 정가)"
   ]
  },
  {
   "cell_type": "code",
   "execution_count": 41,
   "id": "43aa2eb1",
   "metadata": {},
   "outputs": [],
   "source": [
    "data_d['rev_seat']=[None]*data_d.shape[0]\n",
    "def rev_seat(row):\n",
    "    if row.grade not in ['unknown', 'free']:\n",
    "        return row[row.grade]\n",
    "    else:\n",
    "        return None\n",
    "data_d['rev_seat']= data_d.apply(rev_seat, axis=1)"
   ]
  },
  {
   "cell_type": "markdown",
   "id": "fe4eb316",
   "metadata": {},
   "source": [
    "### 좌석 등급 매칭 보정"
   ]
  },
  {
   "cell_type": "code",
   "execution_count": 42,
   "id": "8c2045f8",
   "metadata": {
    "scrolled": true
   },
   "outputs": [
    {
     "data": {
      "text/plain": [
       "1409"
      ]
     },
     "execution_count": 42,
     "metadata": {},
     "output_type": "execute_result"
    }
   ],
   "source": [
    "len(data_d[data_d.price>data_d.rev_seat])"
   ]
  },
  {
   "cell_type": "code",
   "execution_count": 43,
   "id": "a763d311",
   "metadata": {},
   "outputs": [],
   "source": [
    "for index, row in data_d[data_d.price>data_d.rev_seat].iterrows():\n",
    "    data_d.loc[index, 'rev_seat']= min(row[23:34][row[23:34]>row.price])\n",
    "    data_d.loc[index, 'grade']= data_d.columns[23+np.argmin(row[23:34][row[23:34]>row.price])]"
   ]
  },
  {
   "cell_type": "code",
   "execution_count": 44,
   "id": "fd121a8b",
   "metadata": {},
   "outputs": [
    {
     "data": {
      "text/plain": [
       "0"
      ]
     },
     "execution_count": 44,
     "metadata": {},
     "output_type": "execute_result"
    }
   ],
   "source": [
    "len(data_d[data_d.price>data_d.rev_seat])"
   ]
  },
  {
   "cell_type": "markdown",
   "id": "3c824998",
   "metadata": {},
   "source": [
    "## afford(min_price(공연의 최소금액으로부터 낸 금액)"
   ]
  },
  {
   "cell_type": "code",
   "execution_count": 45,
   "id": "bbd71d6d",
   "metadata": {},
   "outputs": [],
   "source": [
    "# price 열에서 최솟값을 빼서 afford 생성\n",
    "data_d['afford']=np.NaN\n",
    "data_d['discount_number'] = data_d['discount_percent']/100\n",
    "# price 열에서 최솟값을 빼서 afford 생성\n",
    "data_d['afford'] = (data_d['rev_seat'] - data_d['min_price'])*(1-data_d['discount_number'])\n",
    "data_d.loc[data_d.afford.isna()==False,'afford']=data_d.loc[data_d.afford.isna()==False,'afford'].astype(int)"
   ]
  },
  {
   "cell_type": "markdown",
   "id": "74da60d9",
   "metadata": {},
   "source": [
    "## cancel_num(취소수)"
   ]
  },
  {
   "cell_type": "code",
   "execution_count": 46,
   "id": "c83a28c8",
   "metadata": {},
   "outputs": [],
   "source": [
    "df_ticket_cancel = data_d[data_d['ticket_cancel']==2]\n",
    "df_ticket_cancel = df_ticket_cancel.groupby(['play_date_time']).size().reset_index(name='cancel_num').copy()\n",
    "\n",
    "# 'play_date_time' 기준으로 합치기\n",
    "data_d=pd.merge(data_d, df_ticket_cancel, on=['play_date_time'], how='left')"
   ]
  },
  {
   "cell_type": "markdown",
   "id": "31395ae0",
   "metadata": {},
   "source": [
    "## tran_rate(예매율) -> 데이터 프레임 이름 : data_fin"
   ]
  },
  {
   "cell_type": "code",
   "execution_count": 47,
   "id": "9ddced1f",
   "metadata": {},
   "outputs": [],
   "source": [
    "# 원래 DataFrame과 병합\n",
    "data_fin = data_d.merge(data_d[data_d['ticket_cancel'] == 0].groupby(['play_date_time'])['ticket_cancel'].count().reset_index(), on='play_date_time', suffixes=('', '_count'))\n",
    "data_fin.rename(columns={'ticket_cancel_count': 'tran_rate'}, inplace=True)"
   ]
  },
  {
   "cell_type": "markdown",
   "id": "a001af34",
   "metadata": {},
   "source": [
    "## distance(무대 중심으로부터 좌석의 거리)"
   ]
  },
  {
   "cell_type": "code",
   "execution_count": 48,
   "id": "e681fd37",
   "metadata": {},
   "outputs": [],
   "source": [
    "# distance\n",
    "# 무대의 위치 (x2, y2)\n",
    "x2 = 52\n",
    "y2 = -13\n",
    "data_fin['distance'] = np.sqrt((x2 - data_fin['x'])**2 + (y2 - data_fin['y'])**2)\n"
   ]
  },
  {
   "cell_type": "markdown",
   "id": "6b996863",
   "metadata": {},
   "source": [
    "## days(공연날짜 요일 : 월요일부터 0)"
   ]
  },
  {
   "cell_type": "code",
   "execution_count": 49,
   "id": "6500f561",
   "metadata": {},
   "outputs": [],
   "source": [
    "# 기준일자 날짜형 변수로 변경\n",
    "import datetime as dt\n",
    "data_fin['days']=data_fin['play_date_time'].dt.weekday"
   ]
  },
  {
   "cell_type": "code",
   "execution_count": 50,
   "id": "9fddd767",
   "metadata": {},
   "outputs": [
    {
     "data": {
      "text/plain": [
       "array(['R_price', 'S_price', 'B_price', 'A_price', 'C_price', 'glee',\n",
       "       'normal', 'second_level', 'third_level', 'first_level'],\n",
       "      dtype=object)"
      ]
     },
     "execution_count": 50,
     "metadata": {},
     "output_type": "execute_result"
    }
   ],
   "source": [
    "data_fin['grade'].unique()"
   ]
  },
  {
   "cell_type": "markdown",
   "id": "a902c5cf",
   "metadata": {},
   "source": [
    "## angle_degrees(각도) -> 무대와 좌석의 각도"
   ]
  },
  {
   "cell_type": "code",
   "execution_count": 51,
   "id": "423deb8d",
   "metadata": {},
   "outputs": [],
   "source": [
    "# 무대의 위치 (x2, y2)\n",
    "x2 = 52\n",
    "y2 = -13\n",
    "\n",
    "# 각 좌표에 대한 각도를 계산하는 함수\n",
    "def calculate_angle(x, y):\n",
    "    # 중심점으로부터의 상대적인 좌표 계산\n",
    "    rel_x, rel_y = x - x2, y - y2\n",
    "    \n",
    "    # 각도 계산 (라디안 단위)\n",
    "    angle_rad = np.arctan2(rel_y, rel_x)\n",
    "    \n",
    "    # 각도를 0에서 90도 사이로 변환 (0부터 90까지의 범위로)\n",
    "    angle_deg = (np.degrees(angle_rad) + 360) % 90\n",
    "    \n",
    "    # 대칭인 좌표에 대해 동일한 각도를 부여하기 위한 보정\n",
    "    if angle_deg > 45:\n",
    "        angle_deg = 90 - angle_deg\n",
    "    \n",
    "    return angle_deg\n",
    "\n",
    "# 데이터프레임에 angle_degrees 열 추가\n",
    "data_fin['angle_degrees'] = data_fin.apply(lambda row: calculate_angle(row['x'], row['y']), axis=1)"
   ]
  },
  {
   "cell_type": "markdown",
   "id": "78b23ad3",
   "metadata": {},
   "source": [
    "## divide_discount (할인 타입 : 0원, 정가지불, 회원할인, 나머지 할인)"
   ]
  },
  {
   "cell_type": "code",
   "execution_count": 52,
   "id": "9e814a8e",
   "metadata": {},
   "outputs": [],
   "source": [
    "# price_0 변수 생성\n",
    "data_fin['divide_discount'] = 0 \n",
    "\n",
    "# 조건에 따라 price_0 값 업데이트 0/정가/회원할인/외부할인\n",
    "data_fin.loc[data_fin['price'] == 0, 'divide_discount'] = 0  # price가 0인 경우 0으로 유지\n",
    "data_fin.loc[(data_fin['discount_type'] == '일반'), 'divide_discount'] = '정가'\n",
    "data_fin.loc[data_fin['discount_type'].str.contains(\"골드|블루|그린|후원회원|싹틔우미|노블\"), 'divide_discount' ] = '회원할인'\n",
    "data_fin.loc[~((data_fin['price'] == 0) | (data_fin['discount_type'] == '일반') |(data_fin['discount_type'].str.contains(\"골드|블루|그린|후원회원|싹틔우미|노블\"))), 'divide_discount'] = '할인'\n",
    "data_fin.loc[data_fin['discount_type'].str.contains(\"KBS교향악단\"), 'divide_discount' ] = '할인'"
   ]
  },
  {
   "cell_type": "markdown",
   "id": "767ce21f",
   "metadata": {},
   "source": [
    "## seat_count(같은 공연에서 해당자리를 예매한 총 고객수 취소표포함)"
   ]
  },
  {
   "cell_type": "code",
   "execution_count": 53,
   "id": "bb1d8955",
   "metadata": {},
   "outputs": [],
   "source": [
    "# 그 자리를 예매한 총 고객수(seat_count) 변수\n",
    "data_fin=pd.merge(data_fin,(data_fin.groupby(['play_date_time','seat']).count()['price']),on=['play_date_time','seat'],suffixes=['','_count'])\n",
    "data_fin.rename(columns={'price_count':'seat_count'}, inplace=True)"
   ]
  },
  {
   "cell_type": "markdown",
   "id": "3f106c90",
   "metadata": {},
   "source": [
    "## rank (해당 좌석이 해당 공연에서 몇 번째로 비싼 좌석인지)"
   ]
  },
  {
   "cell_type": "code",
   "execution_count": 54,
   "id": "9018506e",
   "metadata": {
    "collapsed": true
   },
   "outputs": [
    {
     "ename": "KeyboardInterrupt",
     "evalue": "",
     "output_type": "error",
     "traceback": [
      "\u001b[1;31m---------------------------------------------------------------------------\u001b[0m",
      "\u001b[1;31mKeyboardInterrupt\u001b[0m                         Traceback (most recent call last)",
      "Cell \u001b[1;32mIn[54], line 10\u001b[0m\n\u001b[0;32m      7\u001b[0m     \u001b[38;5;28;01melse\u001b[39;00m:\n\u001b[0;32m      8\u001b[0m         \u001b[38;5;28;01mreturn\u001b[39;00m \u001b[38;5;28;01mNone\u001b[39;00m\n\u001b[1;32m---> 10\u001b[0m data_fin[\u001b[38;5;124m'\u001b[39m\u001b[38;5;124mrank\u001b[39m\u001b[38;5;124m'\u001b[39m] \u001b[38;5;241m=\u001b[39m \u001b[43mdata_fin\u001b[49m\u001b[38;5;241;43m.\u001b[39;49m\u001b[43mapply\u001b[49m\u001b[43m(\u001b[49m\u001b[43mcalculate_rank\u001b[49m\u001b[43m,\u001b[49m\u001b[43m \u001b[49m\u001b[43maxis\u001b[49m\u001b[38;5;241;43m=\u001b[39;49m\u001b[38;5;241;43m1\u001b[39;49m\u001b[43m)\u001b[49m\n",
      "File \u001b[1;32m~\\anaconda3\\envs\\bigcon\\Lib\\site-packages\\pandas\\core\\frame.py:9423\u001b[0m, in \u001b[0;36mDataFrame.apply\u001b[1;34m(self, func, axis, raw, result_type, args, **kwargs)\u001b[0m\n\u001b[0;32m   9412\u001b[0m \u001b[38;5;28;01mfrom\u001b[39;00m \u001b[38;5;21;01mpandas\u001b[39;00m\u001b[38;5;21;01m.\u001b[39;00m\u001b[38;5;21;01mcore\u001b[39;00m\u001b[38;5;21;01m.\u001b[39;00m\u001b[38;5;21;01mapply\u001b[39;00m \u001b[38;5;28;01mimport\u001b[39;00m frame_apply\n\u001b[0;32m   9414\u001b[0m op \u001b[38;5;241m=\u001b[39m frame_apply(\n\u001b[0;32m   9415\u001b[0m     \u001b[38;5;28mself\u001b[39m,\n\u001b[0;32m   9416\u001b[0m     func\u001b[38;5;241m=\u001b[39mfunc,\n\u001b[1;32m   (...)\u001b[0m\n\u001b[0;32m   9421\u001b[0m     kwargs\u001b[38;5;241m=\u001b[39mkwargs,\n\u001b[0;32m   9422\u001b[0m )\n\u001b[1;32m-> 9423\u001b[0m \u001b[38;5;28;01mreturn\u001b[39;00m \u001b[43mop\u001b[49m\u001b[38;5;241;43m.\u001b[39;49m\u001b[43mapply\u001b[49m\u001b[43m(\u001b[49m\u001b[43m)\u001b[49m\u001b[38;5;241m.\u001b[39m__finalize__(\u001b[38;5;28mself\u001b[39m, method\u001b[38;5;241m=\u001b[39m\u001b[38;5;124m\"\u001b[39m\u001b[38;5;124mapply\u001b[39m\u001b[38;5;124m\"\u001b[39m)\n",
      "File \u001b[1;32m~\\anaconda3\\envs\\bigcon\\Lib\\site-packages\\pandas\\core\\apply.py:678\u001b[0m, in \u001b[0;36mFrameApply.apply\u001b[1;34m(self)\u001b[0m\n\u001b[0;32m    675\u001b[0m \u001b[38;5;28;01melif\u001b[39;00m \u001b[38;5;28mself\u001b[39m\u001b[38;5;241m.\u001b[39mraw:\n\u001b[0;32m    676\u001b[0m     \u001b[38;5;28;01mreturn\u001b[39;00m \u001b[38;5;28mself\u001b[39m\u001b[38;5;241m.\u001b[39mapply_raw()\n\u001b[1;32m--> 678\u001b[0m \u001b[38;5;28;01mreturn\u001b[39;00m \u001b[38;5;28;43mself\u001b[39;49m\u001b[38;5;241;43m.\u001b[39;49m\u001b[43mapply_standard\u001b[49m\u001b[43m(\u001b[49m\u001b[43m)\u001b[49m\n",
      "File \u001b[1;32m~\\anaconda3\\envs\\bigcon\\Lib\\site-packages\\pandas\\core\\apply.py:798\u001b[0m, in \u001b[0;36mFrameApply.apply_standard\u001b[1;34m(self)\u001b[0m\n\u001b[0;32m    797\u001b[0m \u001b[38;5;28;01mdef\u001b[39;00m \u001b[38;5;21mapply_standard\u001b[39m(\u001b[38;5;28mself\u001b[39m):\n\u001b[1;32m--> 798\u001b[0m     results, res_index \u001b[38;5;241m=\u001b[39m \u001b[38;5;28;43mself\u001b[39;49m\u001b[38;5;241;43m.\u001b[39;49m\u001b[43mapply_series_generator\u001b[49m\u001b[43m(\u001b[49m\u001b[43m)\u001b[49m\n\u001b[0;32m    800\u001b[0m     \u001b[38;5;66;03m# wrap results\u001b[39;00m\n\u001b[0;32m    801\u001b[0m     \u001b[38;5;28;01mreturn\u001b[39;00m \u001b[38;5;28mself\u001b[39m\u001b[38;5;241m.\u001b[39mwrap_results(results, res_index)\n",
      "File \u001b[1;32m~\\anaconda3\\envs\\bigcon\\Lib\\site-packages\\pandas\\core\\apply.py:814\u001b[0m, in \u001b[0;36mFrameApply.apply_series_generator\u001b[1;34m(self)\u001b[0m\n\u001b[0;32m    811\u001b[0m \u001b[38;5;28;01mwith\u001b[39;00m option_context(\u001b[38;5;124m\"\u001b[39m\u001b[38;5;124mmode.chained_assignment\u001b[39m\u001b[38;5;124m\"\u001b[39m, \u001b[38;5;28;01mNone\u001b[39;00m):\n\u001b[0;32m    812\u001b[0m     \u001b[38;5;28;01mfor\u001b[39;00m i, v \u001b[38;5;129;01min\u001b[39;00m \u001b[38;5;28menumerate\u001b[39m(series_gen):\n\u001b[0;32m    813\u001b[0m         \u001b[38;5;66;03m# ignore SettingWithCopy here in case the user mutates\u001b[39;00m\n\u001b[1;32m--> 814\u001b[0m         results[i] \u001b[38;5;241m=\u001b[39m \u001b[38;5;28;43mself\u001b[39;49m\u001b[38;5;241;43m.\u001b[39;49m\u001b[43mf\u001b[49m\u001b[43m(\u001b[49m\u001b[43mv\u001b[49m\u001b[43m)\u001b[49m\n\u001b[0;32m    815\u001b[0m         \u001b[38;5;28;01mif\u001b[39;00m \u001b[38;5;28misinstance\u001b[39m(results[i], ABCSeries):\n\u001b[0;32m    816\u001b[0m             \u001b[38;5;66;03m# If we have a view on v, we need to make a copy because\u001b[39;00m\n\u001b[0;32m    817\u001b[0m             \u001b[38;5;66;03m#  series_generator will swap out the underlying data\u001b[39;00m\n\u001b[0;32m    818\u001b[0m             results[i] \u001b[38;5;241m=\u001b[39m results[i]\u001b[38;5;241m.\u001b[39mcopy(deep\u001b[38;5;241m=\u001b[39m\u001b[38;5;28;01mFalse\u001b[39;00m)\n",
      "Cell \u001b[1;32mIn[54], line 5\u001b[0m, in \u001b[0;36mcalculate_rank\u001b[1;34m(row)\u001b[0m\n\u001b[0;32m      3\u001b[0m \u001b[38;5;28;01mif\u001b[39;00m grade_column_name \u001b[38;5;129;01min\u001b[39;00m data_fin\u001b[38;5;241m.\u001b[39mcolumns:\n\u001b[0;32m      4\u001b[0m     max_value \u001b[38;5;241m=\u001b[39m row[grade_column_name]\n\u001b[1;32m----> 5\u001b[0m     rank \u001b[38;5;241m=\u001b[39m (\u001b[43mrow\u001b[49m\u001b[43m[\u001b[49m\u001b[43m[\u001b[49m\u001b[38;5;124;43m'\u001b[39;49m\u001b[38;5;124;43mR_price\u001b[39;49m\u001b[38;5;124;43m'\u001b[39;49m\u001b[43m,\u001b[49m\u001b[43m \u001b[49m\u001b[38;5;124;43m'\u001b[39;49m\u001b[38;5;124;43mS_price\u001b[39;49m\u001b[38;5;124;43m'\u001b[39;49m\u001b[43m,\u001b[49m\u001b[43m \u001b[49m\u001b[38;5;124;43m'\u001b[39;49m\u001b[38;5;124;43mB_price\u001b[39;49m\u001b[38;5;124;43m'\u001b[39;49m\u001b[43m,\u001b[49m\u001b[43m \u001b[49m\u001b[38;5;124;43m'\u001b[39;49m\u001b[38;5;124;43mA_price\u001b[39;49m\u001b[38;5;124;43m'\u001b[39;49m\u001b[43m,\u001b[49m\u001b[43m \u001b[49m\u001b[38;5;124;43m'\u001b[39;49m\u001b[38;5;124;43mC_price\u001b[39;49m\u001b[38;5;124;43m'\u001b[39;49m\u001b[43m,\u001b[49m\u001b[43m \u001b[49m\u001b[38;5;124;43m'\u001b[39;49m\u001b[38;5;124;43mglee\u001b[39;49m\u001b[38;5;124;43m'\u001b[39;49m\u001b[43m,\u001b[49m\u001b[43m \u001b[49m\u001b[38;5;124;43m'\u001b[39;49m\u001b[38;5;124;43mnormal\u001b[39;49m\u001b[38;5;124;43m'\u001b[39;49m\u001b[43m,\u001b[49m\u001b[43m \u001b[49m\u001b[38;5;124;43m'\u001b[39;49m\u001b[38;5;124;43msecond_level\u001b[39;49m\u001b[38;5;124;43m'\u001b[39;49m\u001b[43m,\u001b[49m\u001b[43m \u001b[49m\u001b[38;5;124;43m'\u001b[39;49m\u001b[38;5;124;43mthird_level\u001b[39;49m\u001b[38;5;124;43m'\u001b[39;49m\u001b[43m,\u001b[49m\u001b[43m \u001b[49m\u001b[38;5;124;43m'\u001b[39;49m\u001b[38;5;124;43mfirst_level\u001b[39;49m\u001b[38;5;124;43m'\u001b[39;49m\u001b[43m]\u001b[49m\u001b[43m]\u001b[49m\u001b[43m \u001b[49m\u001b[38;5;241;43m>\u001b[39;49m\u001b[38;5;241;43m=\u001b[39;49m\u001b[43m \u001b[49m\u001b[43mmax_value\u001b[49m)\u001b[38;5;241m.\u001b[39msum()\n\u001b[0;32m      6\u001b[0m     \u001b[38;5;28;01mreturn\u001b[39;00m rank\n\u001b[0;32m      7\u001b[0m \u001b[38;5;28;01melse\u001b[39;00m:\n",
      "File \u001b[1;32m~\\anaconda3\\envs\\bigcon\\Lib\\site-packages\\pandas\\core\\ops\\common.py:81\u001b[0m, in \u001b[0;36m_unpack_zerodim_and_defer.<locals>.new_method\u001b[1;34m(self, other)\u001b[0m\n\u001b[0;32m     77\u001b[0m             \u001b[38;5;28;01mreturn\u001b[39;00m \u001b[38;5;28mNotImplemented\u001b[39m\n\u001b[0;32m     79\u001b[0m other \u001b[38;5;241m=\u001b[39m item_from_zerodim(other)\n\u001b[1;32m---> 81\u001b[0m \u001b[38;5;28;01mreturn\u001b[39;00m \u001b[43mmethod\u001b[49m\u001b[43m(\u001b[49m\u001b[38;5;28;43mself\u001b[39;49m\u001b[43m,\u001b[49m\u001b[43m \u001b[49m\u001b[43mother\u001b[49m\u001b[43m)\u001b[49m\n",
      "File \u001b[1;32m~\\anaconda3\\envs\\bigcon\\Lib\\site-packages\\pandas\\core\\arraylike.py:60\u001b[0m, in \u001b[0;36mOpsMixin.__ge__\u001b[1;34m(self, other)\u001b[0m\n\u001b[0;32m     58\u001b[0m \u001b[38;5;129m@unpack_zerodim_and_defer\u001b[39m(\u001b[38;5;124m\"\u001b[39m\u001b[38;5;124m__ge__\u001b[39m\u001b[38;5;124m\"\u001b[39m)\n\u001b[0;32m     59\u001b[0m \u001b[38;5;28;01mdef\u001b[39;00m \u001b[38;5;21m__ge__\u001b[39m(\u001b[38;5;28mself\u001b[39m, other):\n\u001b[1;32m---> 60\u001b[0m     \u001b[38;5;28;01mreturn\u001b[39;00m \u001b[38;5;28;43mself\u001b[39;49m\u001b[38;5;241;43m.\u001b[39;49m\u001b[43m_cmp_method\u001b[49m\u001b[43m(\u001b[49m\u001b[43mother\u001b[49m\u001b[43m,\u001b[49m\u001b[43m \u001b[49m\u001b[43moperator\u001b[49m\u001b[38;5;241;43m.\u001b[39;49m\u001b[43mge\u001b[49m\u001b[43m)\u001b[49m\n",
      "File \u001b[1;32m~\\anaconda3\\envs\\bigcon\\Lib\\site-packages\\pandas\\core\\series.py:6098\u001b[0m, in \u001b[0;36mSeries._cmp_method\u001b[1;34m(self, other, op)\u001b[0m\n\u001b[0;32m   6095\u001b[0m \u001b[38;5;28;01mwith\u001b[39;00m np\u001b[38;5;241m.\u001b[39merrstate(\u001b[38;5;28mall\u001b[39m\u001b[38;5;241m=\u001b[39m\u001b[38;5;124m\"\u001b[39m\u001b[38;5;124mignore\u001b[39m\u001b[38;5;124m\"\u001b[39m):\n\u001b[0;32m   6096\u001b[0m     res_values \u001b[38;5;241m=\u001b[39m ops\u001b[38;5;241m.\u001b[39mcomparison_op(lvalues, rvalues, op)\n\u001b[1;32m-> 6098\u001b[0m \u001b[38;5;28;01mreturn\u001b[39;00m \u001b[38;5;28;43mself\u001b[39;49m\u001b[38;5;241;43m.\u001b[39;49m\u001b[43m_construct_result\u001b[49m\u001b[43m(\u001b[49m\u001b[43mres_values\u001b[49m\u001b[43m,\u001b[49m\u001b[43m \u001b[49m\u001b[43mname\u001b[49m\u001b[38;5;241;43m=\u001b[39;49m\u001b[43mres_name\u001b[49m\u001b[43m)\u001b[49m\n",
      "File \u001b[1;32m~\\anaconda3\\envs\\bigcon\\Lib\\site-packages\\pandas\\core\\series.py:3105\u001b[0m, in \u001b[0;36mSeries._construct_result\u001b[1;34m(self, result, name)\u001b[0m\n\u001b[0;32m   3102\u001b[0m \u001b[38;5;66;03m# TODO: result should always be ArrayLike, but this fails for some\u001b[39;00m\n\u001b[0;32m   3103\u001b[0m \u001b[38;5;66;03m#  JSONArray tests\u001b[39;00m\n\u001b[0;32m   3104\u001b[0m dtype \u001b[38;5;241m=\u001b[39m \u001b[38;5;28mgetattr\u001b[39m(result, \u001b[38;5;124m\"\u001b[39m\u001b[38;5;124mdtype\u001b[39m\u001b[38;5;124m\"\u001b[39m, \u001b[38;5;28;01mNone\u001b[39;00m)\n\u001b[1;32m-> 3105\u001b[0m out \u001b[38;5;241m=\u001b[39m \u001b[38;5;28;43mself\u001b[39;49m\u001b[38;5;241;43m.\u001b[39;49m\u001b[43m_constructor\u001b[49m\u001b[43m(\u001b[49m\u001b[43mresult\u001b[49m\u001b[43m,\u001b[49m\u001b[43m \u001b[49m\u001b[43mindex\u001b[49m\u001b[38;5;241;43m=\u001b[39;49m\u001b[38;5;28;43mself\u001b[39;49m\u001b[38;5;241;43m.\u001b[39;49m\u001b[43mindex\u001b[49m\u001b[43m,\u001b[49m\u001b[43m \u001b[49m\u001b[43mdtype\u001b[49m\u001b[38;5;241;43m=\u001b[39;49m\u001b[43mdtype\u001b[49m\u001b[43m)\u001b[49m\n\u001b[0;32m   3106\u001b[0m out \u001b[38;5;241m=\u001b[39m out\u001b[38;5;241m.\u001b[39m__finalize__(\u001b[38;5;28mself\u001b[39m)\n\u001b[0;32m   3108\u001b[0m \u001b[38;5;66;03m# Set the result's name after __finalize__ is called because __finalize__\u001b[39;00m\n\u001b[0;32m   3109\u001b[0m \u001b[38;5;66;03m#  would set it back to self.name\u001b[39;00m\n",
      "File \u001b[1;32m~\\anaconda3\\envs\\bigcon\\Lib\\site-packages\\pandas\\core\\series.py:518\u001b[0m, in \u001b[0;36mSeries.__init__\u001b[1;34m(self, data, index, dtype, name, copy, fastpath)\u001b[0m\n\u001b[0;32m    515\u001b[0m         data \u001b[38;5;241m=\u001b[39m SingleArrayManager\u001b[38;5;241m.\u001b[39mfrom_array(data, index)\n\u001b[0;32m    517\u001b[0m NDFrame\u001b[38;5;241m.\u001b[39m\u001b[38;5;21m__init__\u001b[39m(\u001b[38;5;28mself\u001b[39m, data)\n\u001b[1;32m--> 518\u001b[0m \u001b[38;5;28;43mself\u001b[39;49m\u001b[38;5;241;43m.\u001b[39;49m\u001b[43mname\u001b[49m \u001b[38;5;241m=\u001b[39m name\n\u001b[0;32m    519\u001b[0m \u001b[38;5;28mself\u001b[39m\u001b[38;5;241m.\u001b[39m_set_axis(\u001b[38;5;241m0\u001b[39m, index)\n",
      "File \u001b[1;32m~\\anaconda3\\envs\\bigcon\\Lib\\site-packages\\pandas\\core\\generic.py:6011\u001b[0m, in \u001b[0;36mNDFrame.__setattr__\u001b[1;34m(self, name, value)\u001b[0m\n\u001b[0;32m   6009\u001b[0m     \u001b[38;5;28mobject\u001b[39m\u001b[38;5;241m.\u001b[39m\u001b[38;5;21m__setattr__\u001b[39m(\u001b[38;5;28mself\u001b[39m, name, value)\n\u001b[0;32m   6010\u001b[0m \u001b[38;5;28;01melif\u001b[39;00m name \u001b[38;5;129;01min\u001b[39;00m \u001b[38;5;28mself\u001b[39m\u001b[38;5;241m.\u001b[39m_metadata:\n\u001b[1;32m-> 6011\u001b[0m     \u001b[38;5;28;43mobject\u001b[39;49m\u001b[38;5;241;43m.\u001b[39;49m\u001b[38;5;21;43m__setattr__\u001b[39;49m\u001b[43m(\u001b[49m\u001b[38;5;28;43mself\u001b[39;49m\u001b[43m,\u001b[49m\u001b[43m \u001b[49m\u001b[43mname\u001b[49m\u001b[43m,\u001b[49m\u001b[43m \u001b[49m\u001b[43mvalue\u001b[49m\u001b[43m)\u001b[49m\n\u001b[0;32m   6012\u001b[0m \u001b[38;5;28;01melse\u001b[39;00m:\n\u001b[0;32m   6013\u001b[0m     \u001b[38;5;28;01mtry\u001b[39;00m:\n",
      "File \u001b[1;32m~\\anaconda3\\envs\\bigcon\\Lib\\site-packages\\pandas\\core\\series.py:673\u001b[0m, in \u001b[0;36mSeries.name\u001b[1;34m(self, value)\u001b[0m\n\u001b[0;32m    671\u001b[0m \u001b[38;5;129m@name\u001b[39m\u001b[38;5;241m.\u001b[39msetter\n\u001b[0;32m    672\u001b[0m \u001b[38;5;28;01mdef\u001b[39;00m \u001b[38;5;21mname\u001b[39m(\u001b[38;5;28mself\u001b[39m, value: Hashable) \u001b[38;5;241m-\u001b[39m\u001b[38;5;241m>\u001b[39m \u001b[38;5;28;01mNone\u001b[39;00m:\n\u001b[1;32m--> 673\u001b[0m     \u001b[43mvalidate_all_hashable\u001b[49m\u001b[43m(\u001b[49m\u001b[43mvalue\u001b[49m\u001b[43m,\u001b[49m\u001b[43m \u001b[49m\u001b[43merror_name\u001b[49m\u001b[38;5;241;43m=\u001b[39;49m\u001b[38;5;124;43mf\u001b[39;49m\u001b[38;5;124;43m\"\u001b[39;49m\u001b[38;5;132;43;01m{\u001b[39;49;00m\u001b[38;5;28;43mtype\u001b[39;49m\u001b[43m(\u001b[49m\u001b[38;5;28;43mself\u001b[39;49m\u001b[43m)\u001b[49m\u001b[38;5;241;43m.\u001b[39;49m\u001b[38;5;18;43m__name__\u001b[39;49m\u001b[38;5;132;43;01m}\u001b[39;49;00m\u001b[38;5;124;43m.name\u001b[39;49m\u001b[38;5;124;43m\"\u001b[39;49m\u001b[43m)\u001b[49m\n\u001b[0;32m    674\u001b[0m     \u001b[38;5;28mobject\u001b[39m\u001b[38;5;241m.\u001b[39m\u001b[38;5;21m__setattr__\u001b[39m(\u001b[38;5;28mself\u001b[39m, \u001b[38;5;124m\"\u001b[39m\u001b[38;5;124m_name\u001b[39m\u001b[38;5;124m\"\u001b[39m, value)\n",
      "File \u001b[1;32m~\\anaconda3\\envs\\bigcon\\Lib\\site-packages\\pandas\\core\\dtypes\\common.py:1631\u001b[0m, in \u001b[0;36mvalidate_all_hashable\u001b[1;34m(error_name, *args)\u001b[0m\n\u001b[0;32m   1624\u001b[0m     \u001b[38;5;28;01mif\u001b[39;00m typ \u001b[38;5;129;01mnot\u001b[39;00m \u001b[38;5;129;01min\u001b[39;00m [\u001b[38;5;124m\"\u001b[39m\u001b[38;5;124mgeneric\u001b[39m\u001b[38;5;124m\"\u001b[39m, \u001b[38;5;124m\"\u001b[39m\u001b[38;5;124mns\u001b[39m\u001b[38;5;124m\"\u001b[39m]:\n\u001b[0;32m   1625\u001b[0m         \u001b[38;5;28;01mraise\u001b[39;00m \u001b[38;5;167;01mValueError\u001b[39;00m(\n\u001b[0;32m   1626\u001b[0m             \u001b[38;5;124mf\u001b[39m\u001b[38;5;124m\"\u001b[39m\u001b[38;5;132;01m{\u001b[39;00m\u001b[38;5;28mrepr\u001b[39m(dtype\u001b[38;5;241m.\u001b[39mname)\u001b[38;5;132;01m}\u001b[39;00m\u001b[38;5;124m is too specific of a frequency, \u001b[39m\u001b[38;5;124m\"\u001b[39m\n\u001b[0;32m   1627\u001b[0m             \u001b[38;5;124mf\u001b[39m\u001b[38;5;124m\"\u001b[39m\u001b[38;5;124mtry passing \u001b[39m\u001b[38;5;132;01m{\u001b[39;00m\u001b[38;5;28mrepr\u001b[39m(dtype\u001b[38;5;241m.\u001b[39mtype\u001b[38;5;241m.\u001b[39m\u001b[38;5;18m__name__\u001b[39m)\u001b[38;5;132;01m}\u001b[39;00m\u001b[38;5;124m\"\u001b[39m\n\u001b[0;32m   1628\u001b[0m         )\n\u001b[1;32m-> 1631\u001b[0m \u001b[38;5;28;01mdef\u001b[39;00m \u001b[38;5;21mvalidate_all_hashable\u001b[39m(\u001b[38;5;241m*\u001b[39margs, error_name: \u001b[38;5;28mstr\u001b[39m \u001b[38;5;241m|\u001b[39m \u001b[38;5;28;01mNone\u001b[39;00m \u001b[38;5;241m=\u001b[39m \u001b[38;5;28;01mNone\u001b[39;00m) \u001b[38;5;241m-\u001b[39m\u001b[38;5;241m>\u001b[39m \u001b[38;5;28;01mNone\u001b[39;00m:\n\u001b[0;32m   1632\u001b[0m \u001b[38;5;250m    \u001b[39m\u001b[38;5;124;03m\"\"\"\u001b[39;00m\n\u001b[0;32m   1633\u001b[0m \u001b[38;5;124;03m    Return None if all args are hashable, else raise a TypeError.\u001b[39;00m\n\u001b[0;32m   1634\u001b[0m \n\u001b[1;32m   (...)\u001b[0m\n\u001b[0;32m   1648\u001b[0m \u001b[38;5;124;03m    None\u001b[39;00m\n\u001b[0;32m   1649\u001b[0m \u001b[38;5;124;03m    \"\"\"\u001b[39;00m\n\u001b[0;32m   1650\u001b[0m     \u001b[38;5;28;01mif\u001b[39;00m \u001b[38;5;129;01mnot\u001b[39;00m \u001b[38;5;28mall\u001b[39m(is_hashable(arg) \u001b[38;5;28;01mfor\u001b[39;00m arg \u001b[38;5;129;01min\u001b[39;00m args):\n",
      "\u001b[1;31mKeyboardInterrupt\u001b[0m: "
     ]
    }
   ],
   "source": [
    "def calculate_rank(row):\n",
    "    grade_column_name = row['grade']\n",
    "    if grade_column_name in data_fin.columns:\n",
    "        max_value = row[grade_column_name]\n",
    "        rank = (row[['R_price', 'S_price', 'B_price', 'A_price', 'C_price', 'glee', 'normal', 'second_level', 'third_level', 'first_level']] >= max_value).sum()\n",
    "        return rank\n",
    "    else:\n",
    "        return None\n",
    "\n",
    "data_fin['rank'] = data_fin.apply(calculate_rank, axis=1)"
   ]
  },
  {
   "cell_type": "markdown",
   "id": "a5a43f3a",
   "metadata": {},
   "source": [
    "### 코로나시기 데이터랑 코로나시기 아닌 데이터 분리\n",
    "- 2020년 2월부터 2022년 4월까지를 코로나시기라고 정의함"
   ]
  },
  {
   "cell_type": "code",
   "execution_count": 131,
   "id": "a3397a33",
   "metadata": {},
   "outputs": [],
   "source": [
    "start_date = pd.Timestamp('2020-02-01')  # 2020년 2월 1일\n",
    "end_date = pd.Timestamp('2022-04-30')    # 2022년 4월 30일\n",
    "\n",
    "# 해당하는 행 (2020년 2월에서 2022년 4월 사이)\n",
    "cov_data = data_fin[(data_fin['play_date_time'] >= start_date) & (data_fin['play_date_time'] <= end_date)].reset_index()\n",
    "\n",
    "# 해당하지 않는 행 (2020년 2월에서 2022년 4월 사이가 아닌 것)\n",
    "non_cov_data = data_fin[~((data_fin['play_date_time'] >= start_date) & (data_fin['play_date_time'] <= end_date))].reset_index()"
   ]
  },
  {
   "cell_type": "markdown",
   "id": "3d0a371c",
   "metadata": {},
   "source": [
    "## seat_hot(해당 좌석의 인기도=총 예매 티켓 중 그 좌석의 비중을 정규화)"
   ]
  },
  {
   "cell_type": "code",
   "execution_count": 132,
   "id": "6b8bfc2d",
   "metadata": {},
   "outputs": [],
   "source": [
    "#코로나일 경우와 아닐 경우 분리해서 생각(좌석 띄어앉기 때문에 값이 달라질 것으로 예측함)\n",
    "#코로나시기\n",
    "data_t0=cov_data[cov_data['ticket_cancel']==0]\n",
    "data_t0.groupby(['seat']).size().reset_index(name = 'seat_num')\n",
    "\n",
    "# 'play_datetime','performance_code' 기준으로 합치기\n",
    "data_t00=pd.merge(cov_data, data_t0.groupby(['seat']).size().reset_index(name = 'seat_num'), on=['seat'], how='left')\n",
    "\n",
    "## seat_hot : 실제 판매된 특정 좌석의 수를 min-max 표준화\n",
    "min_hot = data_t00['seat_num'].min()\n",
    "max_hot = data_t00['seat_num'].max()\n",
    "cov_data['seat_hot'] = (data_t00['seat_num'] - min_hot)/(max_hot - min_hot)\n",
    "\n",
    "#코로나시기 아닐 때\n",
    "data_t0=non_cov_data[non_cov_data['ticket_cancel']==0]\n",
    "data_t0.groupby(['seat']).size().reset_index(name = 'seat_num')\n",
    "\n",
    "# 'play_datetime','performance_code' 기준으로 합치기\n",
    "data_t00=pd.merge(non_cov_data, data_t0.groupby(['seat']).size().reset_index(name = 'seat_num'), on=['seat'], how='left')\n",
    "\n",
    "## seat_hot : 실제 판매된 특정 좌석의 수를 min-max 표준화\n",
    "min_hot = data_t00['seat_num'].min()\n",
    "max_hot = data_t00['seat_num'].max()\n",
    "non_cov_data['seat_hot'] = (data_t00['seat_num'] - min_hot)/(max_hot - min_hot)"
   ]
  },
  {
   "cell_type": "markdown",
   "id": "f0f3a53e",
   "metadata": {},
   "source": [
    "## final_df(필요없는 열 지우기)"
   ]
  },
  {
   "cell_type": "code",
   "execution_count": null,
   "id": "47f67d63",
   "metadata": {},
   "outputs": [],
   "source": [
    "cov_data.drop(['tran_date','tran_time','play_date','play_st_time','discount_number'],axis=1,inplace=True)\n",
    "non_cov_data.drop(['tran_date','tran_time','play_date','play_st_time','discount_number'],axis=1,inplace=True)"
   ]
  },
  {
   "cell_type": "code",
   "execution_count": null,
   "id": "95719f05",
   "metadata": {},
   "outputs": [],
   "source": [
    "#v파생변수들 확인해보기\n",
    "col=['loyalty','cancel_yn','ticket_count','like','like_ratio','min_price','rev_seat','afford','cancel_num','tran_rate','distance','days','angle_degrees','divide_discount','seat_count','seat_hot']\n",
    "cov_data[col]"
   ]
  },
  {
   "cell_type": "code",
   "execution_count": null,
   "id": "01199e3d",
   "metadata": {},
   "outputs": [],
   "source": [
    "non_cov_data[col]"
   ]
  },
  {
   "cell_type": "code",
   "execution_count": null,
   "id": "a0cae7eb",
   "metadata": {},
   "outputs": [],
   "source": [
    "final_data = pd.concat([cov_data, non_cov_data], axis=0)"
   ]
  },
  {
   "cell_type": "code",
   "execution_count": null,
   "id": "cd3b9ef4",
   "metadata": {},
   "outputs": [],
   "source": [
    "#csv 저장\n",
    "cov_data.to_csv('cov_data.csv',index=False)\n",
    "non_cov_data.to_csv('non_cov_data.csv',index=False)\n",
    "final_data.to_csv('final_data.csv',index=False)"
   ]
  }
 ],
 "metadata": {
  "kernelspec": {
   "display_name": "Python 3 (ipykernel)",
   "language": "python",
   "name": "python3"
  },
  "language_info": {
   "codemirror_mode": {
    "name": "ipython",
    "version": 3
   },
   "file_extension": ".py",
   "mimetype": "text/x-python",
   "name": "python",
   "nbconvert_exporter": "python",
   "pygments_lexer": "ipython3",
   "version": "3.11.5"
  }
 },
 "nbformat": 4,
 "nbformat_minor": 5
}
