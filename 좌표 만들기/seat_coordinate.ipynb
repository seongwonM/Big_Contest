{
 "cells": [
  {
   "cell_type": "code",
   "execution_count": 63,
   "id": "b7c73f8c",
   "metadata": {},
   "outputs": [],
   "source": [
    "# 라이브러리\n",
    "import pandas as pd"
   ]
  },
  {
   "cell_type": "code",
   "execution_count": 64,
   "id": "ac99f00d",
   "metadata": {},
   "outputs": [],
   "source": [
    "# 데이터 불러오기\n",
    "seat=pd.read_csv('seat.csv',encoding='cp949', header=None)"
   ]
  },
  {
   "cell_type": "code",
   "execution_count": 65,
   "id": "62beb575",
   "metadata": {},
   "outputs": [],
   "source": [
    "# 원본 데이터 유지\n",
    "df=seat.copy()"
   ]
  },
  {
   "cell_type": "code",
   "execution_count": 66,
   "id": "4bbd5190",
   "metadata": {},
   "outputs": [],
   "source": [
    "# df의 행 개수 x df의 열 개수 (= 넣을 데이터프레임의 행 개수)\n",
    "length=len(df)*len(df.columns)"
   ]
  },
  {
   "cell_type": "code",
   "execution_count": 67,
   "id": "d4cb92b5",
   "metadata": {},
   "outputs": [],
   "source": [
    "# 좌표와 좌석 이름을 저장할 df 생성\n",
    "data = {'x': [[]]*(length),\n",
    "        'y': [[]]*(length),\n",
    "        '열2': range(length),\n",
    "       }\n",
    "seat_coor = pd.DataFrame(data)"
   ]
  },
  {
   "cell_type": "code",
   "execution_count": 68,
   "id": "18713791",
   "metadata": {},
   "outputs": [],
   "source": [
    "# 데이터 프레임에 좌표, 좌석 이름 대입\n",
    "for i in range(len(df)):\n",
    "    for j in range(len(df.columns)):\n",
    "        seat_coor.iloc[i*len(df.columns)+j,0]=j # 열 번호 = x 좌표\n",
    "        seat_coor.iloc[i*len(df.columns)+j,1]=-i # - 행 번호 = y 좌표\n",
    "        seat_coor.iloc[i*len(df.columns)+j,2]=df.iloc[i,j] # 좌석 이름"
   ]
  },
  {
   "cell_type": "code",
   "execution_count": 69,
   "id": "9d799890",
   "metadata": {},
   "outputs": [],
   "source": [
    "# NaN을 빈칸으로 대체\n",
    "seat_coor.loc[seat_coor['열2'].isna(), '열2']=''"
   ]
  },
  {
   "cell_type": "code",
   "execution_count": 70,
   "id": "173d716b",
   "metadata": {
    "scrolled": true
   },
   "outputs": [],
   "source": [
    "# 좌석 이름에 층, 블록, 열, 번호중 하나라도 들어가있지 않으면 빈칸으로 대체\n",
    "for index in seat_coor.index:\n",
    "    if seat_coor.loc[index, '열2']!='무대':\n",
    "        if len(seat_coor.loc[index, '열2'].split(' '))<3:\n",
    "            seat_coor.loc[index, '열2']=''\n",
    "    for i in range(len(seat_coor.loc[index, '열2'].split(' '))):\n",
    "        if seat_coor.loc[index, '열2']=='무대':\n",
    "            break\n",
    "        elif seat_coor.loc[index, '열2'].split(' ')[i]=='':\n",
    "            seat_coor.loc[index, '열2']=''\n",
    "            break"
   ]
  },
  {
   "cell_type": "code",
   "execution_count": 71,
   "id": "85632ef4",
   "metadata": {},
   "outputs": [],
   "source": [
    "# 추가로 남아있는 이상한 좌석을 빈칸으로 대체\n",
    "for index in seat_coor.index:\n",
    "    if seat_coor.loc[index, '열2']!='무대':\n",
    "        if seat_coor.loc[index, '열2'].split(' ')[0]!='':\n",
    "            if seat_coor.loc[index, '열2'].split(' ')[1][1]!='블':\n",
    "                if seat_coor.loc[index, '열2'].split(' ')[1][0]!='B':\n",
    "                    seat_coor.loc[index, '열2']=''\n",
    "        "
   ]
  },
  {
   "cell_type": "code",
   "execution_count": 72,
   "id": "ec6b7238",
   "metadata": {},
   "outputs": [],
   "source": [
    "# 좌석 이름이 빈칸이 아닌 것들만 남기기\n",
    "seat_coor=seat_coor[seat_coor.열2!=''] "
   ]
  },
  {
   "cell_type": "code",
   "execution_count": 73,
   "id": "49e36314",
   "metadata": {},
   "outputs": [],
   "source": [
    "# 열 이름 변경\n",
    "seat_coor.columns=['x', 'y', 'seat'] "
   ]
  },
  {
   "cell_type": "code",
   "execution_count": 74,
   "id": "1258382d",
   "metadata": {},
   "outputs": [],
   "source": [
    "# 제공 데이터에 있는 좌표\n",
    "data = {'x': [18, 19, 86, 85],\n",
    "        'y': [-64, -64, -64, -64],\n",
    "        'seat': ['2층 A블록8열 12', '2층 A블록8열 13', '2층 E블록8열 12', '2층 E블록8열 13']}\n",
    "df = pd.DataFrame(data)"
   ]
  },
  {
   "cell_type": "code",
   "execution_count": 75,
   "id": "e6a03ff4",
   "metadata": {},
   "outputs": [],
   "source": [
    "# 결합\n",
    "seat_coor=pd.concat([seat_coor, df], axis=0)"
   ]
  },
  {
   "cell_type": "code",
   "execution_count": 76,
   "id": "6c8d09ac",
   "metadata": {},
   "outputs": [],
   "source": [
    "# 저장\n",
    "seat_coor.to_csv('seat_coor.csv', index=False)"
   ]
  }
 ],
 "metadata": {
  "kernelspec": {
   "display_name": "빅콘",
   "language": "python",
   "name": "bigcon"
  },
  "language_info": {
   "codemirror_mode": {
    "name": "ipython",
    "version": 3
   },
   "file_extension": ".py",
   "mimetype": "text/x-python",
   "name": "python",
   "nbconvert_exporter": "python",
   "pygments_lexer": "ipython3",
   "version": "3.11.5"
  }
 },
 "nbformat": 4,
 "nbformat_minor": 5
}
