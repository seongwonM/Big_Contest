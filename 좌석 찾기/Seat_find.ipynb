{
 "cells": [
  {
   "cell_type": "code",
   "execution_count": 2,
   "id": "85c82627",
   "metadata": {
    "scrolled": true
   },
   "outputs": [],
   "source": [
    "# 라이브러리 불러오기\n",
    "import numpy as np\n",
    "import pandas as pd\n",
    "import sys\n",
    "import warnings\n",
    "from datetime import datetime, timedelta\n",
    "from scipy.spatial import distance"
   ]
  },
  {
   "cell_type": "code",
   "execution_count": 3,
   "id": "8b1062d5",
   "metadata": {},
   "outputs": [],
   "source": [
    "# 데이터 불러오기\n",
    "hall=pd.read_csv('unmissing_final.csv', low_memory=False)"
   ]
  },
  {
   "cell_type": "code",
   "execution_count": 4,
   "id": "dd243db1",
   "metadata": {},
   "outputs": [],
   "source": [
    "# 원본 데이터 유지를 위해 복제\n",
    "df=hall.copy()"
   ]
  },
  {
   "cell_type": "code",
   "execution_count": 5,
   "id": "f2d16fd6",
   "metadata": {},
   "outputs": [],
   "source": [
    "# 옵션 설정\n",
    "pd.set_option('display.max_columns', None)"
   ]
  },
  {
   "cell_type": "markdown",
   "id": "1681eb40",
   "metadata": {},
   "source": [
    "## 좌석 분리"
   ]
  },
  {
   "cell_type": "code",
   "execution_count": 29,
   "id": "f42ced1f",
   "metadata": {},
   "outputs": [
    {
     "name": "stdout",
     "output_type": "stream",
     "text": [
      "CPU times: total: 29 s\n",
      "Wall time: 49.8 s\n"
     ]
    }
   ],
   "source": [
    "%%time\n",
    "# seat를 층, 블록, 열, 번호로 분리\n",
    "floor=[]\n",
    "block=[]\n",
    "seat_line=[]\n",
    "seat_number=[]\n",
    "df['floor']=''\n",
    "df['block']=''\n",
    "df['seat_line']=0\n",
    "df['seat_number']=0\n",
    "\n",
    "for index, row in df.iterrows(): # BOX석과 아닐때를 구분해서 분리\n",
    "    floor.append(row['seat'].split()[0]) # 층\n",
    "    if row['seat'].split()[1][:3]=='BOX': \n",
    "        block.append(row['seat'].split()[1][:5]) # BOX석 블록\n",
    "        seat_line.append(int(row['seat'].split()[1][3])) # BOX석 열\n",
    "    else:\n",
    "        block.append(row['seat'].split()[1][0]) # 알파벳 블록\n",
    "        seat_line.append(int(row['seat'].split()[1][3:-1])) # 알파벳 열\n",
    "    seat_number.append(int(row['seat'].split()[2])) # 번호\n",
    "    \n",
    "df.floor=floor\n",
    "df.block=block\n",
    "df.seat_line=seat_line\n",
    "df.seat_number=seat_number"
   ]
  },
  {
   "cell_type": "markdown",
   "id": "fef942fb",
   "metadata": {},
   "source": [
    "## 고유한 공연 구분"
   ]
  },
  {
   "cell_type": "code",
   "execution_count": 30,
   "id": "9c723855",
   "metadata": {},
   "outputs": [],
   "source": [
    "df['play_date_time']=df['play_date']+' '+df['play_st_time']"
   ]
  },
  {
   "cell_type": "markdown",
   "id": "bd0eea9c-ea94-4885-95c1-73f544072d21",
   "metadata": {},
   "source": [
    "## 좌석 찾기"
   ]
  },
  {
   "cell_type": "code",
   "execution_count": 32,
   "id": "2959f360",
   "metadata": {},
   "outputs": [],
   "source": [
    "# 좌표 데이터\n",
    "seat=pd.read_csv('seat_coor.csv')"
   ]
  },
  {
   "cell_type": "code",
   "execution_count": 33,
   "id": "271e9ad3",
   "metadata": {},
   "outputs": [],
   "source": [
    "# 병합\n",
    "df=pd.merge(df, seat, how='left', on = 'seat')"
   ]
  },
  {
   "cell_type": "code",
   "execution_count": 34,
   "id": "97b9938a",
   "metadata": {},
   "outputs": [],
   "source": [
    "# 복구한 좌석을 저장할 열 생성\n",
    "df['grade']=df['seat_level']"
   ]
  },
  {
   "cell_type": "code",
   "execution_count": 35,
   "id": "d538f53e",
   "metadata": {},
   "outputs": [],
   "source": [
    "# x, y에 가중치를 두어 거리를 center를 기준으로 절댓값을 취해 계산하고 가장 가까운 값을 반환하는 함수\n",
    "def findmin(df, x, y, center, scale):\n",
    "    min_distance=np.inf # 무한대로 초기화\n",
    "    nearest_grade='' # 변수 초기화\n",
    "    if scale==0: # x에 가중치\n",
    "        for index, row in df.iterrows():\n",
    "            d = distance.euclidean((abs(x-center)/100, y), (abs(row.x-center)/100, row.y)) # 거리\n",
    "            if d < min_distance: # 만약 더 작을 경우(가까울 경우)\n",
    "                min_distance = d # 최솟값을 변경\n",
    "                nearest_grade = row.seat_level # 그때 좌석도 변경\n",
    "    elif scale==1: # y에 가중치\n",
    "        for index, row in df.iterrows():\n",
    "            d = distance.euclidean((abs(x-center), y/100), (abs(row.x-center), row.y/100))\n",
    "            if d < min_distance:\n",
    "                min_distance = d\n",
    "                nearest_grade = row.seat_level\n",
    "    else: # 가중치 없음\n",
    "        for index, row in df.iterrows():\n",
    "            d = distance.euclidean((abs(x-center), y), (abs(row.x-center), row.y))\n",
    "            if d < min_distance:\n",
    "                min_distance = d\n",
    "                nearest_grade = row.seat_level        \n",
    "    return nearest_grade"
   ]
  },
  {
   "cell_type": "markdown",
   "id": "add34001",
   "metadata": {},
   "source": [
    "### 독주"
   ]
  },
  {
   "cell_type": "code",
   "execution_count": 36,
   "id": "3f466aea",
   "metadata": {},
   "outputs": [
    {
     "data": {
      "text/plain": [
       "41"
      ]
     },
     "execution_count": 36,
     "metadata": {},
     "output_type": "execute_result"
    }
   ],
   "source": [
    "# 독주 공연 개수\n",
    "df[df.genre=='독주'].play_date_time.nunique()"
   ]
  },
  {
   "cell_type": "code",
   "execution_count": 37,
   "id": "c522968b-399b-42a5-a4c0-b3a684a1407c",
   "metadata": {
    "scrolled": false
   },
   "outputs": [
    {
     "name": "stdout",
     "output_type": "stream",
     "text": [
      "CPU times: total: 1min 10s\n",
      "Wall time: 2min 10s\n"
     ]
    }
   ],
   "source": [
    "%%time\n",
    "center=41 # B블록과 C블록 사이 좌표\n",
    "seat_none=['unknown', 'missing', 'more', 'free'] # 모르는 좌석(바꿔야함)\n",
    "seat_known=['B_price', 'R_price', 'A_price', 'S_price', 'C_price', 'normal', 'third_level', 'glee',\n",
    "       'second_level', 'first_level'] # 아는 좌석\n",
    "\n",
    "for num in sorted(df[df.genre=='독주'].play_date_time.unique()): # 독주인 공연들을 순회\n",
    "    # 필요한 변수들과 현재 공연만 test에 저장\n",
    "    test=df.loc[(df.play_date_time==num), ['seat_level', 'floor', 'block', 'seat_line', 'seat_number', 'x', 'y']]\n",
    "    known_seats = test[test.seat_level.isin(seat_known)] # 아는 좌석만 따로 저장\n",
    "    if known_seats.empty: # 아는 좌석이 없으면 그대로 다음 공연으로\n",
    "        continue\n",
    "    for index, row in test.iterrows(): # test를 순회\n",
    "        if any(row['seat_level'] in s for s in seat_none):  # 모르는 좌석일 경우\n",
    "            x=row.x # 현재 행의 x\n",
    "            y=row.y # 현재 행의 y\n",
    "            if (row['floor']=='1층'): # 현재 층이 1층일 경우\n",
    "                known_seat2=known_seats[(known_seats.floor=='1층')] # 아는 좌석중 1층만 저장\n",
    "                if known_seat2.empty==False: # 아는 좌석중 1층이 있을 경우\n",
    "                    if (row.block in ['B', 'C', 'D']): # 현재 블록이 B, C, D일 경우 x에 가중치를 두어 최솟값 계산\n",
    "                        known_seat3=known_seat2[known_seat2.block.isin(['B', 'C', 'D'])]\n",
    "                        if known_seat3.empty==False:\n",
    "                            df.loc[index, 'grade']=findmin(known_seat3, x, y, center, 0)\n",
    "                            continue\n",
    "                    else:\n",
    "                        known_seat3=known_seat2[known_seat2.block.isin(['A', 'E'])] # 현재 블록이 A, E일 경우 y에 가중치를 두어 계산\n",
    "                        if known_seat3.empty==False:\n",
    "                            df.loc[index, 'grade']=findmin(known_seat3, x, y, center, 1)\n",
    "                            continue\n",
    "                    # 아는 좌석이 각 블록들에 없을 경우 가중치를 두지 않고 계산\n",
    "                    df.loc[index, 'grade']=findmin(known_seat2, x, y, center, 2)\n",
    "                    continue\n",
    "            elif (row['floor']=='2층'): # 2층(위와 유사한 방식)\n",
    "                known_seat2=known_seats[(known_seats.floor=='2층')]\n",
    "                if known_seat2.empty==False:\n",
    "                    if (row.block in ['B', 'C', 'D']):\n",
    "                        known_seat3=known_seat2[known_seat2.block.isin(['B', 'C', 'D'])]\n",
    "                        if known_seat3.empty==False:\n",
    "                                df.loc[index, 'grade']=findmin(known_seat3, x, y, center, 0)\n",
    "                                continue\n",
    "                    elif (row.block in ['A', 'E']):\n",
    "                        known_seat3=known_seat2[known_seat2.block.isin(['A', 'E'])]\n",
    "                        if known_seat3.empty==False:\n",
    "                            df.loc[index, 'grade']=findmin(known_seat3, x, y, center, 1)\n",
    "                            continue\n",
    "                    else:\n",
    "                        known_seat3=known_seat2[known_seat2.block.str.len()>1]\n",
    "                        if known_seat3.empty==False:\n",
    "                            df.loc[index, 'grade']=findmin(known_seat3, x, y, center, 2)\n",
    "                            continue\n",
    "                    df.loc[index, 'grade']=findmin(known_seat2, x, y, center, 2)\n",
    "                    continue\n",
    "            elif (row['floor']=='3층'): # 3층(위와 유사)\n",
    "                known_seat2=known_seats[(known_seats.floor=='3층')]\n",
    "                if known_seat2.empty==False:\n",
    "                    if (row.block in ['B', 'C', 'D', 'E', 'F']):\n",
    "                        known_seat3=known_seat2[known_seat2.block.isin(['B', 'C', 'D', 'E', 'F'])]\n",
    "                        if known_seat3.empty==False:\n",
    "                            if (row.block in ['C', 'D','E'])&(any(known_seat3.block.isin(['C', 'D', 'E']))):\n",
    "                                known_seat4=known_seat3[known_seat3.block.isin(['C', 'D', 'E'])]\n",
    "                                if known_seat4.empty==False:\n",
    "                                    df.loc[index, 'grade']=findmin(known_seat4, x, y, center, 0)\n",
    "                                    continue\n",
    "                            elif (row.block in ['B','F'])&(any(known_seat3.block.isin(['B','F']))):\n",
    "                                known_seat4=known_seat3[known_seat3.block.isin(['B', 'F'])]\n",
    "                                if known_seat4.empty==False:\n",
    "                                    df.loc[index, 'grade']=findmin(known_seat4, x, y, center, 0)\n",
    "                                    continue\n",
    "                            else:\n",
    "                                df.loc[index, 'grade']=findmin(known_seat3, x, y, center, 0)\n",
    "                                continue\n",
    "                    elif (row.block in ['A', 'G']):\n",
    "                        known_seat3=known_seat2[known_seat2.block.isin(['A', 'G'])]\n",
    "                        if known_seat3.empty==False:\n",
    "                            df.loc[index, 'grade']=findmin(known_seat3, x, y, center, 1)\n",
    "                            continue\n",
    "                    else:\n",
    "                        known_seat3=known_seat2[known_seat2.block.str.len()>1]\n",
    "                        if known_seat3.empty==False:\n",
    "                            df.loc[index, 'grade']=findmin(known_seat3, x, y, center, 2)\n",
    "                            continue\n",
    "                    df.loc[index, 'grade']=findmin(known_seat2, x, y, center, 2)\n",
    "                    continue\n",
    "            else: # 합창석\n",
    "                known_seat2=known_seats[(known_seats.floor=='합창석')]\n",
    "                known_seat_glee3=known_seats[(known_seats.floor=='3층')] # 1층이 가까우므로 3층부터 계산\n",
    "                known_seat_glee2=known_seats[(known_seats.floor=='2층')] # 3층에 없으면 2층\n",
    "                if known_seat2.empty==False:\n",
    "                    if (row.block in ['H', 'F']):\n",
    "                        known_seat3=known_seat2[known_seat2.block.isin(['H', 'F'])]\n",
    "                        if known_seat3.empty==False:\n",
    "                            df.loc[index, 'grade']=findmin(known_seat3, x, y, center, 1)\n",
    "                            continue\n",
    "                    else:\n",
    "                        known_seat3=known_seat2[known_seat2.block=='G']\n",
    "                        if known_seat3.empty==False:\n",
    "                            df.loc[index, 'grade']=findmin(known_seat3, x, y, center, 0)\n",
    "                            continue\n",
    "                if row[36:47].empty==False:\n",
    "                    df.loc[index, 'grade']=row[36:47].index[np.argmin(row[36:47])]\n",
    "                    continue\n",
    "                else:\n",
    "                    if known_seat_glee3.empty==False:\n",
    "                        df.loc[index, 'grade']=findmin(known_seat_glee3, x, y, center, 2)\n",
    "                        continue\n",
    "                    elif known_seat_glee2.empty==False:\n",
    "                        df.loc[index, 'grade']=findmin(known_seat_glee2, x, y, center, 2)\n",
    "                        continue\n",
    "            df.loc[index, 'grade']=findmin(known_seats, x, y, center, 2)\n",
    "            continue"
   ]
  },
  {
   "cell_type": "markdown",
   "id": "94961dc1",
   "metadata": {},
   "source": [
    "### 독주 제외"
   ]
  },
  {
   "cell_type": "code",
   "execution_count": 38,
   "id": "2caf0f6b",
   "metadata": {},
   "outputs": [
    {
     "data": {
      "text/plain": [
       "702"
      ]
     },
     "execution_count": 38,
     "metadata": {},
     "output_type": "execute_result"
    }
   ],
   "source": [
    "# 독주 제외 공연 개수\n",
    "df[df.genre!='독주'].play_date_time.nunique()"
   ]
  },
  {
   "cell_type": "code",
   "execution_count": 39,
   "id": "b29b485d",
   "metadata": {
    "scrolled": true
   },
   "outputs": [
    {
     "name": "stdout",
     "output_type": "stream",
     "text": [
      "CPU times: total: 40min 2s\n",
      "Wall time: 1h 30min 3s\n"
     ]
    }
   ],
   "source": [
    "%%time\n",
    "# 위와 동일하고 center만 무대 중앙으로 변경\n",
    "center=seat[seat.seat=='무대'].x.mean() # 무대 중앙\n",
    "seat_none=['unknown', 'missing', 'more', 'free']\n",
    "seat_known=['B_price', 'R_price', 'A_price', 'S_price', 'C_price', 'normal', 'third_level', 'glee',\n",
    "       'second_level', 'first_level']\n",
    "\n",
    "for num in sorted(df[df.genre!='독주'].play_date_time.unique()):\n",
    "    test=df.loc[(df.play_date_time==num), ['seat_level', 'floor', 'block', 'seat_line', 'seat_number', 'x', 'y']]\n",
    "    known_seats = test[test.seat_level.isin(seat_known)]\n",
    "    if known_seats.empty:\n",
    "        continue\n",
    "    for index, row in test.iterrows():\n",
    "        if any(row['seat_level'] in s for s in seat_none):\n",
    "            x=row.x\n",
    "            y=row.y\n",
    "            if (row['floor']=='1층'):\n",
    "                known_seat2=known_seats[(known_seats.floor=='1층')]\n",
    "                if known_seat2.empty==False:\n",
    "                    if (row.block in ['B', 'C', 'D']):\n",
    "                        known_seat3=known_seat2[known_seat2.block.isin(['B', 'C', 'D'])]\n",
    "                        if known_seat3.empty==False:\n",
    "                            df.loc[index, 'grade']=findmin(known_seat3, x, y, center, 0)\n",
    "                            continue\n",
    "                    else:\n",
    "                        known_seat3=known_seat2[known_seat2.block.isin(['A', 'E'])]\n",
    "                        if known_seat3.empty==False:\n",
    "                            df.loc[index, 'grade']=findmin(known_seat3, x, y, center, 1)\n",
    "                            continue\n",
    "                    df.loc[index, 'grade']=findmin(known_seat2, x, y, center, 2)\n",
    "                    continue\n",
    "            elif (row['floor']=='2층'):\n",
    "                known_seat2=known_seats[(known_seats.floor=='2층')]\n",
    "                if known_seat2.empty==False:\n",
    "                    if (row.block in ['B', 'C', 'D']):\n",
    "                        known_seat3=known_seat2[known_seat2.block.isin(['B', 'C', 'D'])]\n",
    "                        if known_seat3.empty==False:\n",
    "                                df.loc[index, 'grade']=findmin(known_seat3, x, y, center, 0)\n",
    "                                continue\n",
    "                    elif (row.block in ['A', 'E']):\n",
    "                        known_seat3=known_seat2[known_seat2.block.isin(['A', 'E'])]\n",
    "                        if known_seat3.empty==False:\n",
    "                            df.loc[index, 'grade']=findmin(known_seat3, x, y, center, 1)\n",
    "                            continue\n",
    "                    else:\n",
    "                        known_seat3=known_seat2[known_seat2.block.str.len()>1]\n",
    "                        if known_seat3.empty==False:\n",
    "                            df.loc[index, 'grade']=findmin(known_seat3, x, y, center, 2)\n",
    "                            continue\n",
    "                    df.loc[index, 'grade']=findmin(known_seat2, x, y, center, 2)\n",
    "                    continue\n",
    "            elif (row['floor']=='3층'):\n",
    "                known_seat2=known_seats[(known_seats.floor=='3층')]\n",
    "                if known_seat2.empty==False:\n",
    "                    if (row.block in ['B', 'C', 'D', 'E', 'F']):\n",
    "                        known_seat3=known_seat2[known_seat2.block.isin(['B', 'C', 'D', 'E', 'F'])]\n",
    "                        if known_seat3.empty==False:\n",
    "                            if (row.block in ['C', 'D','E'])&(any(known_seat3.block.isin(['C', 'D', 'E']))):\n",
    "                                known_seat4=known_seat3[known_seat3.block.isin(['C', 'D', 'E'])]\n",
    "                                if known_seat4.empty==False:\n",
    "                                    df.loc[index, 'grade']=findmin(known_seat4, x, y, center, 0)\n",
    "                                    continue\n",
    "                            elif (row.block in ['B','F'])&(any(known_seat3.block.isin(['B','F']))):\n",
    "                                known_seat4=known_seat3[known_seat3.block.isin(['B', 'F'])]\n",
    "                                if known_seat4.empty==False:\n",
    "                                    df.loc[index, 'grade']=findmin(known_seat4, x, y, center, 0)\n",
    "                                    continue\n",
    "                            else:\n",
    "                                df.loc[index, 'grade']=findmin(known_seat3, x, y, center, 0)\n",
    "                                continue\n",
    "                    elif (row.block in ['A', 'G']):\n",
    "                        known_seat3=known_seat2[known_seat2.block.isin(['A', 'G'])]\n",
    "                        if known_seat3.empty==False:\n",
    "                            df.loc[index, 'grade']=findmin(known_seat3, x, y, center, 1)\n",
    "                            continue\n",
    "                    else:\n",
    "                        known_seat3=known_seat2[known_seat2.block.str.len()>1]\n",
    "                        if known_seat3.empty==False:\n",
    "                            df.loc[index, 'grade']=findmin(known_seat3, x, y, center, 2)\n",
    "                            continue\n",
    "                    df.loc[index, 'grade']=findmin(known_seat2, x, y, center, 2)\n",
    "                    continue\n",
    "            else:\n",
    "                known_seat2=known_seats[(known_seats.floor=='합창석')]\n",
    "                known_seat_glee3=known_seats[(known_seats.floor=='3층')]\n",
    "                known_seat_glee2=known_seats[(known_seats.floor=='2층')]\n",
    "                if known_seat2.empty==False:\n",
    "                    if (row.block in ['H', 'F']):\n",
    "                        known_seat3=known_seat2[known_seat2.block.isin(['H', 'F'])]\n",
    "                        if known_seat3.empty==False:\n",
    "                            df.loc[index, 'grade']=findmin(known_seat3, x, y, center, 1)\n",
    "                            continue\n",
    "                    else:\n",
    "                        known_seat3=known_seat2[known_seat2.block=='G']\n",
    "                        if known_seat3.empty==False:\n",
    "                            df.loc[index, 'grade']=findmin(known_seat3, x, y, center, 0)\n",
    "                            continue\n",
    "                if row[36:47].empty==False:\n",
    "                    df.loc[index, 'grade']=row[36:47].index[np.argmin(row[36:47])]\n",
    "                    continue\n",
    "                else:\n",
    "                    if known_seat_glee3.empty==False:\n",
    "                        df.loc[index, 'grade']=findmin(known_seat_glee3, x, y, center, 2)\n",
    "                        continue\n",
    "                    elif known_seat_glee2.empty==False:\n",
    "                        df.loc[index, 'grade']=findmin(known_seat_glee2, x, y, center, 2)\n",
    "                        continue\n",
    "            df.loc[index, 'grade']=findmin(known_seats, x, y, center, 2)\n",
    "            continue"
   ]
  },
  {
   "cell_type": "code",
   "execution_count": 40,
   "id": "3044aa5a",
   "metadata": {},
   "outputs": [],
   "source": [
    "import os"
   ]
  },
  {
   "cell_type": "code",
   "execution_count": 41,
   "id": "7f435aec",
   "metadata": {},
   "outputs": [],
   "source": [
    "# found_seat.csv 에 저장\n",
    "df.to_csv('found_seat.csv', index=False)"
   ]
  }
 ],
 "metadata": {
  "kernelspec": {
   "display_name": "빅콘",
   "language": "python",
   "name": "bigcon"
  },
  "language_info": {
   "codemirror_mode": {
    "name": "ipython",
    "version": 3
   },
   "file_extension": ".py",
   "mimetype": "text/x-python",
   "name": "python",
   "nbconvert_exporter": "python",
   "pygments_lexer": "ipython3",
   "version": "3.11.5"
  }
 },
 "nbformat": 4,
 "nbformat_minor": 5
}
