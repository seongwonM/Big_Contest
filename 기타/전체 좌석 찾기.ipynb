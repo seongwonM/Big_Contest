{
 "cells": [
  {
   "cell_type": "code",
   "execution_count": null,
   "id": "ec73b71f",
   "metadata": {},
   "outputs": [],
   "source": [
    "import numpy as np\n",
    "import pandas as pd\n",
    "import sys\n",
    "import matplotlib as mpl\n",
    "import matplotlib.pyplot as plt\n",
    "import seaborn as sns\n",
    "import warnings\n",
    "from datetime import datetime, timedelta\n",
    "from scipy.spatial import distance\n",
    "import os"
   ]
  },
  {
   "cell_type": "code",
   "execution_count": 2,
   "id": "8b1062d5",
   "metadata": {},
   "outputs": [],
   "source": [
    "hall=pd.read_csv('df_real_final.csv', low_memory=False)"
   ]
  },
  {
   "cell_type": "code",
   "execution_count": 37,
   "id": "dd243db1",
   "metadata": {},
   "outputs": [],
   "source": [
    "df=hall.copy()"
   ]
  },
  {
   "cell_type": "code",
   "execution_count": 41,
   "id": "b9d0ad80",
   "metadata": {},
   "outputs": [],
   "source": [
    "seat2=seat.loc[seat.seat!='무대', ['x','y', 'seat']]\n",
    "seat2['label']=0"
   ]
  },
  {
   "cell_type": "code",
   "execution_count": 42,
   "id": "1f6f3d91",
   "metadata": {},
   "outputs": [],
   "source": [
    "data=[]\n",
    "for num in df.label.unique():\n",
    "    num_data = seat2.values.copy()\n",
    "    num_data[:, -1] = num\n",
    "    data.append(num_data)\n",
    "\n",
    "new_data = np.vstack(data)\n",
    "new_seat = pd.DataFrame(new_data, columns=['x', 'y', 'seat', 'label'])"
   ]
  },
  {
   "cell_type": "code",
   "execution_count": 43,
   "id": "63a1804b",
   "metadata": {},
   "outputs": [],
   "source": [
    "new_seat=pd.merge(new_seat, df.loc[:, ['x', 'y', 'label', 'grade', 'seat']], how='left', on=['x', 'y', 'seat', 'label'])"
   ]
  },
  {
   "cell_type": "code",
   "execution_count": 49,
   "id": "5108c7bb",
   "metadata": {},
   "outputs": [],
   "source": [
    "new_seat.fillna('', inplace=True)"
   ]
  },
  {
   "cell_type": "code",
   "execution_count": 54,
   "id": "c02d7d5f",
   "metadata": {},
   "outputs": [
    {
     "name": "stdout",
     "output_type": "stream",
     "text": [
      "CPU times: total: 47.9 s\n",
      "Wall time: 2min 17s\n"
     ]
    }
   ],
   "source": [
    "%%time\n",
    "floor=[]\n",
    "block=[]\n",
    "seat_line=[]\n",
    "seat_number=[]\n",
    "new_seat['floor']=''\n",
    "new_seat['block']=''\n",
    "new_seat['seat_line']=0\n",
    "new_seat['seat_number']=0\n",
    "\n",
    "for index, row in new_seat.iterrows():\n",
    "    floor.append(row['seat'].split()[0])\n",
    "    if row['seat'].split()[1][:3]=='BOX':\n",
    "        block.append(row['seat'].split()[1][:4])\n",
    "        seat_line.append(int(row['seat'].split()[1][3]))\n",
    "    else:\n",
    "        block.append(row['seat'].split()[1][0])\n",
    "        seat_line.append(int(row['seat'].split()[1][3:-1]))\n",
    "    seat_number.append(int(row['seat'].split()[2]))\n",
    "    \n",
    "new_seat.floor=floor\n",
    "new_seat.block=block\n",
    "new_seat.seat_line=seat_line\n",
    "new_seat.seat_number=seat_number"
   ]
  },
  {
   "cell_type": "code",
   "execution_count": 51,
   "id": "220dd053",
   "metadata": {},
   "outputs": [],
   "source": [
    "new_seat['new_grade']=new_seat.grade"
   ]
  },
  {
   "cell_type": "code",
   "execution_count": 57,
   "id": "a1f980f5",
   "metadata": {},
   "outputs": [],
   "source": [
    "def findmin(df, x, y, center, scale):\n",
    "    min_distance=np.inf\n",
    "    nearest_grade=''\n",
    "    if scale==0:\n",
    "        for index, row in df.iterrows():\n",
    "            d = distance.euclidean((abs(x-center)/100, y), (abs(row.x-center)/100, row.y))\n",
    "            if d < min_distance:\n",
    "                min_distance = d\n",
    "                nearest_grade = row.grade\n",
    "    elif scale==1:\n",
    "        for index, row in df.iterrows():\n",
    "            d = distance.euclidean((abs(x-center), y/100), (abs(row.x-center), row.y/100))\n",
    "            if d < min_distance:\n",
    "                min_distance = d\n",
    "                nearest_grade = row.grade\n",
    "    else:\n",
    "        for index, row in df.iterrows():\n",
    "            d = distance.euclidean((abs(x-center), y), (abs(row.x-center), row.y))\n",
    "            if d < min_distance:\n",
    "                min_distance = d\n",
    "                nearest_grade = row.grade      \n",
    "    return nearest_grade"
   ]
  },
  {
   "cell_type": "code",
   "execution_count": 58,
   "id": "2224684e",
   "metadata": {
    "scrolled": true
   },
   "outputs": [
    {
     "name": "stdout",
     "output_type": "stream",
     "text": [
      "CPU times: total: 1min 38s\n",
      "Wall time: 3min 58s\n"
     ]
    }
   ],
   "source": [
    "%%time\n",
    "\n",
    "center=seat[seat.seat=='무대'].x.mean()\n",
    "seat_none=['']\n",
    "seat_known=['B_price', 'R_price', 'A_price', 'S_price', 'C_price', 'normal', 'third_level', 'glee',\n",
    "       'second_level', 'first_level']\n",
    "\n",
    "for num in sorted(new_seat.label.unique()):\n",
    "    test=new_seat.loc[(new_seat.label==num), ['grade', 'floor', 'block', 'seat_line', 'seat_number', 'x', 'y']]\n",
    "    known_seats = test[test.grade.isin(seat_known)]\n",
    "    if known_seats.empty:\n",
    "        continue\n",
    "    # 알려진 좌석과 가장 가까운 좌석 찾아서 채우기\n",
    "    for index, row in test.iterrows():\n",
    "        if any(row['grade'] in s for s in seat_none):  # 알려지지 않은 좌석일 경우\n",
    "            x=row.x\n",
    "            y=row.y\n",
    "            if (row['floor']=='1층'):\n",
    "                known_seat2=known_seats[(known_seats.floor=='1층')]\n",
    "                if known_seat2.empty==False:\n",
    "                    if (row.block in ['B', 'C', 'D']):\n",
    "                        known_seat3=known_seat2[known_seat2.block.isin(['B', 'C', 'D'])]\n",
    "                        if known_seat3.empty==False:\n",
    "                            if (any(known_seat3.block=='C'))&(row.block=='C'):\n",
    "                                known_seat4=known_seat3[known_seat3.block=='C']\n",
    "                                if known_seat4.empty==False:\n",
    "                                    df.loc[index, 'new_grade']=findmin(known_seat4, x, y, center, 0)\n",
    "                                    continue\n",
    "                            elif (row.block in ['B', 'D'])&(any(known_seat3.block.isin(['B','D']))):\n",
    "                                known_seat4=known_seat3[known_seat3.block.isin(['B', 'D'])]\n",
    "                                if known_seat4.empty==False:\n",
    "                                    df.loc[index, 'new_grade']=findmin(known_seat4, x, y, center, 0)\n",
    "                                    continue\n",
    "                            else:\n",
    "                                df.loc[index, 'new_grade']=findmin(known_seat3, x, y, center, 0)\n",
    "                                continue\n",
    "                    else:\n",
    "                        known_seat3=known_seat2[known_seat2.block.isin(['A', 'E'])]\n",
    "                        if known_seat3.empty==False:\n",
    "                            df.loc[index, 'new_grade']=findmin(known_seat3, x, y, center, 1)\n",
    "                            continue\n",
    "                    df.loc[index, 'new_grade']=findmin(known_seat2, x, y, center, 2)\n",
    "                    continue\n",
    "            elif (row['floor']=='2층'):\n",
    "                known_seat2=known_seats[(known_seats.floor=='2층')]\n",
    "                if known_seat2.empty==False:\n",
    "                    if (row.block in ['B', 'C', 'D']):\n",
    "                        known_seat3=known_seat2[known_seat2.block.isin(['B', 'C', 'D'])]\n",
    "                        if known_seat3.empty==False:\n",
    "                            if (any(known_seat3.block=='C'))&(row.block=='C'):\n",
    "                                known_seat4=known_seat3[known_seat3.block=='C']\n",
    "                                if known_seat4.empty==False:\n",
    "                                    df.loc[index, 'new_grade']=findmin(known_seat4, x, y, center, 0)\n",
    "                                    continue\n",
    "                            elif (row.block!='C')&(any(known_seat3.block.isin(['B','D']))):\n",
    "                                known_seat4=known_seat3[known_seat3.block.isin(['B', 'D'])]\n",
    "                                if known_seat4.empty==False:\n",
    "                                    df.loc[index, 'new_grade']=findmin(known_seat4, x, y, center, 0)\n",
    "                                    continue\n",
    "                            else:\n",
    "                                df.loc[index, 'new_grade']=findmin(known_seat3, x, y, center, 0)\n",
    "                                continue\n",
    "                    elif (row.block in ['A', 'E']):\n",
    "                        known_seat3=known_seat2[known_seat2.block.isin(['A', 'E'])]\n",
    "                        if known_seat3.empty==False:\n",
    "                            df.loc[index, 'new_grade']=findmin(known_seat3, x, y, center, 1)\n",
    "                            continue\n",
    "                    else:\n",
    "                        known_seat3=known_seat2[known_seat2.block.str.len()>1]\n",
    "                        if known_seat3.empty==False:\n",
    "                            df.loc[index, 'new_grade']=findmin(known_seat3, x, y, center, 2)\n",
    "                            continue\n",
    "                    df.loc[index, 'new_grade']=findmin(known_seat2, x, y, center, 2)\n",
    "                    continue\n",
    "            elif (row['floor']=='3층'):\n",
    "                known_seat2=known_seats[(known_seats.floor=='3층')]\n",
    "                if known_seat2.empty==False:\n",
    "                    if (row.block in ['B', 'C', 'D', 'E', 'F']):\n",
    "                        known_seat3=known_seat2[known_seat2.block.isin(['B', 'C', 'D', 'E', 'F'])]\n",
    "                        if known_seat3.empty==False:\n",
    "                            if (any(known_seat3.block=='D'))&(row.block=='D'):\n",
    "                                known_seat4=known_seat3[known_seat3.block=='D']\n",
    "                                if known_seat4.empty==False:\n",
    "                                    df.loc[index, 'new_grade']=findmin(known_seat4, x, y, center, 0)\n",
    "                                    continue\n",
    "                            elif (row.block in ['C','E'])&(any(known_seat3.block.isin(['C','E']))):\n",
    "                                known_seat4=known_seat3[known_seat3.block.isin(['C', 'E'])]\n",
    "                                if known_seat4.empty==False:\n",
    "                                    df.loc[index, 'new_grade']=findmin(known_seat4, x, y, center, 0)\n",
    "                                    continue\n",
    "                            elif (row.block in ['B','F'])&(any(known_seat3.block.isin(['B','F']))):\n",
    "                                known_seat4=known_seat3[known_seat3.block.isin(['B', 'F'])]\n",
    "                                if known_seat4.empty==False:\n",
    "                                    df.loc[index, 'new_grade']=findmin(known_seat4, x, y, center, 0)\n",
    "                                    continue\n",
    "                            else:\n",
    "                                df.loc[index, 'new_grade']=findmin(known_seat3, x, y, center, 0)\n",
    "                                continue\n",
    "                    elif (row.block in ['A', 'G']):\n",
    "                        known_seat3=known_seat2[known_seat2.block.isin(['A', 'G'])]\n",
    "                        if known_seat3.empty==False:\n",
    "                            df.loc[index, 'new_grade']=findmin(known_seat3, x, y, center, 1)\n",
    "                            continue\n",
    "                    else:\n",
    "                        known_seat3=known_seat2[known_seat2.block.str.len()>1]\n",
    "                        if known_seat3.empty==False:\n",
    "                            df.loc[index, 'new_grade']=findmin(known_seat3, x, y, center, 2)\n",
    "                            continue\n",
    "                    df.loc[index, 'new_grade']=findmin(known_seat2, x, y, center, 2)\n",
    "                    continue\n",
    "            else:\n",
    "                known_seat2=known_seats[(known_seats.floor=='합창석')]\n",
    "                if known_seat2.empty==False:\n",
    "                    if (row.block in ['H', 'F']):\n",
    "                        known_seat3=known_seat2[known_seat2.block.isin(['H', 'F'])]\n",
    "                        if known_seat3.empty==False:\n",
    "                            df.loc[index, 'new_grade']=findmin(known_seat3, x, y, center, 1)\n",
    "                            continue\n",
    "                    else:\n",
    "                        known_seat3=known_seat2[known_seat2.block=='G']\n",
    "                        if known_seat3.empty==False:\n",
    "                            df.loc[index, 'new_grade']=findmin(known_seat3, x, y, center, 0)\n",
    "                            continue\n",
    "                    df.loc[index, 'new_grade']=findmin(known_seat2, x, y, center, 2)\n",
    "                    continue\n",
    "            df.loc[index, 'new_grade']=findmin(known_seats, x, y, center, 2)\n",
    "            continue"
   ]
  },
  {
   "cell_type": "code",
   "execution_count": null,
   "id": "f25525d1",
   "metadata": {},
   "outputs": [],
   "source": [
    "new_seat.to_csv('full_seat.csv', index=False)"
   ]
  }
 ],
 "metadata": {
  "kernelspec": {
   "display_name": "빅콘",
   "language": "python",
   "name": "bigcon"
  },
  "language_info": {
   "codemirror_mode": {
    "name": "ipython",
    "version": 3
   },
   "file_extension": ".py",
   "mimetype": "text/x-python",
   "name": "python",
   "nbconvert_exporter": "python",
   "pygments_lexer": "ipython3",
   "version": "3.11.5"
  }
 },
 "nbformat": 4,
 "nbformat_minor": 5
}
