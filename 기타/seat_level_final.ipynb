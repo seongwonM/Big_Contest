{
 "cells": [
  {
   "cell_type": "code",
   "execution_count": null,
   "id": "ecf27d85",
   "metadata": {},
   "outputs": [],
   "source": [
    "#결국 origin_price1를 구하는게 목표\n",
    "#정가 알 수 있는거\n",
    "data.loc[data.discount_type.isin(['골드회원+음반패키지','골드회원+음반 패키지','골드회원 할인+음반패키지']),'price']=data.loc[data.discount_type.isin(['골드회원+음반패키지','골드회원+음반 패키지','골드회원 할인+음반패키지']),'price']-10000\n",
    "data.loc[data.discount_type.isin(['골드회원+음반패키지','골드회원+음반 패키지','골드회원 할인+음반패키지']),'discount_percent']=30\n",
    "data.loc[data.discount_type.isin(['블랙프라이데이 이벤트']),'discount_percent']=40\n",
    "data.loc[data.discount_type.isin(['싹틔우미 할인']),'discount_percent']=60\n",
    "data.loc[data.discount_type.isin(['특판A']),'discount_percent']=20\n",
    "data.loc[data.discount_type.isin(['특판B']),'discount_percent']=30\n",
    "data.loc[data.discount_type.isin(['특판D']),'discount_percent']=50\n",
    "\n",
    "origin_price1=[]      \n",
    "for j in data.index.tolist():\n",
    "    price = data.loc[j, 'price']\n",
    "    calculated_price1 = price * (1/(1-(data.loc[j,'discount_percent'] / 100))) if not pd.isna(data.loc[j,'discount_percent']) else None\n",
    "    origin_price1.append(calculated_price1)    \n",
    "data['origin_price1']=origin_price1\n",
    "\n",
    "data.loc[data.discount_type.isin(['초/중/고/대학생 할인(본인만)']),'origin_price1']=data.loc[data.discount_type.isin(['초/중/고/대학생 할인(본인만)']),'price']+5000\n",
    "\n",
    "#정가는 알 수 없지만 가격이 고정된 경우(origin_price2에 넣어볼까 하고 일단 넣어봤음)\n",
    "import numpy as np\n",
    "origin_price2=[np.nan]*data.shape[0]\n",
    "data.origin_price2=origin_price2\n",
    "data.loc[data.discount_type.isin(['초/중/고등학생 할인(본인만)','기획사할인','초/중/고등학생 할인','하비에르 국제학교 학부모, 직원','하비에르 국제학교 재학생','기획사']),'origin_price2']=data.loc[data.discount_type.isin(['초/중/고등학생 할인(본인만)','기획사할인','초/중/고등학생 할인','하비에르 국제학교 학부모, 직원','하비에르 국제학교 재학생','기획사']),'price']\n",
    "\n",
    "#정가는 알 수 없지만 좌석별 가격은 고정된 경우 ->할지말지 고민중"
   ]
  },
  {
   "cell_type": "code",
   "execution_count": null,
   "id": "1398ac57",
   "metadata": {},
   "outputs": [],
   "source": [
    "#할인 역적용\n",
    "import re\n",
    "def percentage_numbers(text):\n",
    "    if '%' in text:\n",
    "        pattern = r'(\\d+)\\s*%'\n",
    "        matches = re.findall(pattern, text)\n",
    "        return int(matches[-1])\n",
    "    else:\n",
    "        if text=='일반':\n",
    "            return 0\n",
    "        pass\n",
    "\n",
    "data['discount_percent']=data['discount_type'].apply(percentage_numbers)\n",
    "\n",
    "#정가 측정 : %있는 것들 바꿔주기\n",
    "origin_price1=[]\n",
    "        \n",
    "for j in data.index.tolist():\n",
    "    price = data.loc[j, 'price']\n",
    "    calculated_price1 = price * (1/(1-(data.loc[j,'discount_percent'] / 100))) if not pd.isna(data.loc[j,'discount_percent']) else None\n",
    "    origin_price1.append(calculated_price1)    \n",
    "\n",
    "data_d['origin_price1']=origin_price1\n"
   ]
  },
  {
   "cell_type": "code",
   "execution_count": null,
   "id": "f950f727",
   "metadata": {},
   "outputs": [],
   "source": [
    "#seat level(### 오류 나면 data_d.iloc[j,35:46]에 숫자 한번 바꿔봐)\n",
    "data_d=data.copy()\n",
    "import numpy as np\n",
    "seat_level=[None]*data_d.shape[0]\n",
    "for j in range(data_d.shape[0]):\n",
    "    if (np.isnan(data_d.loc[j,'origin_price1']))&(set(data_d.iloc[j,35:46].tolist())=={0}):\n",
    "        seat_level[j]='free'\n",
    "    elif (np.isnan(data_d.loc[j,'origin_price1']))&(set(data_d.iloc[j,35:46].tolist())!={0}):\n",
    "        seat_level[j]='unknown'\n",
    "    else:   \n",
    "        diff=[(i-int(data_d.loc[j,'origin_price1'])) for i in data_d.iloc[j,35:46].tolist() if not np.isnan(i)]\n",
    "        if len([i for i in diff if ((i>=0)&(i<=2000))])==1:\n",
    "            diff_value=[i for i in diff if ((i>=0)&(i<=2000))][0]\n",
    "            seat_level[j]=data_d.columns[(data_d.iloc[j,35:46].tolist().index(int(data_d.loc[j,'origin_price1'])+diff_value)+35)]\n",
    "        elif len([i for i in diff if ((i>=0)&(i<=2000))])==0:\n",
    "            seat_level[j]='missing'\n",
    "        else:\n",
    "            seat_level[j]='more'\n",
    "\n",
    "data_d['seat_level']=seat_level\n",
    "data_d.loc[(data_d['seat_level']=='unknown')&(data_d['price']==0),'seat_level']='free'"
   ]
  }
 ],
 "metadata": {
  "kernelspec": {
   "display_name": "Python 3 (ipykernel)",
   "language": "python",
   "name": "python3"
  },
  "language_info": {
   "codemirror_mode": {
    "name": "ipython",
    "version": 3
   },
   "file_extension": ".py",
   "mimetype": "text/x-python",
   "name": "python",
   "nbconvert_exporter": "python",
   "pygments_lexer": "ipython3",
   "version": "3.11.5"
  }
 },
 "nbformat": 4,
 "nbformat_minor": 5
}
