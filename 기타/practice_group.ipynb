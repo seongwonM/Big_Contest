{
 "cells": [
  {
   "cell_type": "code",
   "execution_count": null,
   "id": "85c82627",
   "metadata": {
    "scrolled": true
   },
   "outputs": [],
   "source": [
    "import numpy as np\n",
    "import pandas as pd\n",
    "import sys\n",
    "import matplotlib as mpl\n",
    "import matplotlib.pyplot as plt\n",
    "import seaborn as sns\n",
    "import warnings"
   ]
  },
  {
   "cell_type": "code",
   "execution_count": null,
   "id": "8b1062d5",
   "metadata": {},
   "outputs": [],
   "source": [
    "hall=pd.read_csv('data.csv')"
   ]
  },
  {
   "cell_type": "code",
   "execution_count": null,
   "id": "dd243db1",
   "metadata": {},
   "outputs": [],
   "source": [
    "df=hall.copy()"
   ]
  },
  {
   "cell_type": "code",
   "execution_count": null,
   "id": "df016478",
   "metadata": {},
   "outputs": [],
   "source": [
    "df= df[df['place']=='콘서트홀']"
   ]
  },
  {
   "cell_type": "code",
   "execution_count": null,
   "id": "f2d16fd6",
   "metadata": {},
   "outputs": [],
   "source": [
    "pd.set_option('display.max_columns', None)"
   ]
  },
  {
   "cell_type": "code",
   "execution_count": null,
   "id": "2959f360",
   "metadata": {},
   "outputs": [],
   "source": [
    "seat=pd.read_csv('seat_coor.csv')"
   ]
  },
  {
   "cell_type": "code",
   "execution_count": null,
   "id": "e65c3fd3",
   "metadata": {},
   "outputs": [],
   "source": [
    "seat"
   ]
  }
 ],
 "metadata": {
  "kernelspec": {
   "display_name": "빅콘",
   "language": "python",
   "name": "bigcon"
  },
  "language_info": {
   "codemirror_mode": {
    "name": "ipython",
    "version": 3
   },
   "file_extension": ".py",
   "mimetype": "text/x-python",
   "name": "python",
   "nbconvert_exporter": "python",
   "pygments_lexer": "ipython3",
   "version": "3.11.4"
  }
 },
 "nbformat": 4,
 "nbformat_minor": 5
}
